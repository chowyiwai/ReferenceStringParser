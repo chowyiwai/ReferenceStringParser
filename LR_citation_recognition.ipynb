{
 "cells": [
  {
   "cell_type": "code",
   "execution_count": 48,
   "metadata": {},
   "outputs": [],
   "source": [
    "import pandas as pd\n",
    "from sklearn.linear_model import LogisticRegression\n",
    "import numpy as np\n",
    "import seaborn\n",
    "import matplotlib.pyplot as plt\n"
   ]
  },
  {
   "cell_type": "code",
   "execution_count": 49,
   "metadata": {},
   "outputs": [
    {
     "data": {
      "text/html": [
       "<div>\n",
       "<style scoped>\n",
       "    .dataframe tbody tr th:only-of-type {\n",
       "        vertical-align: middle;\n",
       "    }\n",
       "\n",
       "    .dataframe tbody tr th {\n",
       "        vertical-align: top;\n",
       "    }\n",
       "\n",
       "    .dataframe thead th {\n",
       "        text-align: right;\n",
       "    }\n",
       "</style>\n",
       "<table border=\"1\" class=\"dataframe\">\n",
       "  <thead>\n",
       "    <tr style=\"text-align: right;\">\n",
       "      <th></th>\n",
       "      <th>text</th>\n",
       "      <th>label</th>\n",
       "    </tr>\n",
       "  </thead>\n",
       "  <tbody>\n",
       "    <tr>\n",
       "      <th>0</th>\n",
       "      <td>[1]T., V. and Quinney, D. 1987. An Introductio...</td>\n",
       "      <td>acm-sig-proceedings</td>\n",
       "    </tr>\n",
       "    <tr>\n",
       "      <th>1</th>\n",
       "      <td>[1]Pope, S.T. et al. 1995. Touched by Machine?...</td>\n",
       "      <td>acm-sig-proceedings</td>\n",
       "    </tr>\n",
       "    <tr>\n",
       "      <th>2</th>\n",
       "      <td>[1]Sugihara, M. and Murota, K. 1982. A Note on...</td>\n",
       "      <td>acm-sig-proceedings</td>\n",
       "    </tr>\n",
       "    <tr>\n",
       "      <th>3</th>\n",
       "      <td>[1]Franklin, J.N. et al. 1965. Monte Carlo Met...</td>\n",
       "      <td>acm-sig-proceedings</td>\n",
       "    </tr>\n",
       "    <tr>\n",
       "      <th>4</th>\n",
       "      <td>[1]Kitchen, J. and Denbaly, M. 1987. Commodity...</td>\n",
       "      <td>acm-sig-proceedings</td>\n",
       "    </tr>\n",
       "    <tr>\n",
       "      <th>...</th>\n",
       "      <td>...</td>\n",
       "      <td>...</td>\n",
       "    </tr>\n",
       "    <tr>\n",
       "      <th>50098</th>\n",
       "      <td>Freedman, Marcia, and James G. Scoville. “The ...</td>\n",
       "      <td>mla</td>\n",
       "    </tr>\n",
       "    <tr>\n",
       "      <th>50099</th>\n",
       "      <td>Smoliar, Stephen W., and Deryck Cooke. “The La...</td>\n",
       "      <td>mla</td>\n",
       "    </tr>\n",
       "    <tr>\n",
       "      <th>50100</th>\n",
       "      <td>L., Y. L., and F. M. Arscott. “Periodic Differ...</td>\n",
       "      <td>mla</td>\n",
       "    </tr>\n",
       "    <tr>\n",
       "      <th>50101</th>\n",
       "      <td>Katz, Lawrence F. “Some Recent Developments in...</td>\n",
       "      <td>mla</td>\n",
       "    </tr>\n",
       "    <tr>\n",
       "      <th>50102</th>\n",
       "      <td>Lee, Cheng F. “Abstract--Investment Horizon an...</td>\n",
       "      <td>mla</td>\n",
       "    </tr>\n",
       "  </tbody>\n",
       "</table>\n",
       "<p>50103 rows × 2 columns</p>\n",
       "</div>"
      ],
      "text/plain": [
       "                                                    text                label\n",
       "0      [1]T., V. and Quinney, D. 1987. An Introductio...  acm-sig-proceedings\n",
       "1      [1]Pope, S.T. et al. 1995. Touched by Machine?...  acm-sig-proceedings\n",
       "2      [1]Sugihara, M. and Murota, K. 1982. A Note on...  acm-sig-proceedings\n",
       "3      [1]Franklin, J.N. et al. 1965. Monte Carlo Met...  acm-sig-proceedings\n",
       "4      [1]Kitchen, J. and Denbaly, M. 1987. Commodity...  acm-sig-proceedings\n",
       "...                                                  ...                  ...\n",
       "50098  Freedman, Marcia, and James G. Scoville. “The ...                  mla\n",
       "50099  Smoliar, Stephen W., and Deryck Cooke. “The La...                  mla\n",
       "50100  L., Y. L., and F. M. Arscott. “Periodic Differ...                  mla\n",
       "50101  Katz, Lawrence F. “Some Recent Developments in...                  mla\n",
       "50102  Lee, Cheng F. “Abstract--Investment Horizon an...                  mla\n",
       "\n",
       "[50103 rows x 2 columns]"
      ]
     },
     "execution_count": 49,
     "metadata": {},
     "output_type": "execute_result"
    }
   ],
   "source": [
    "import os\n",
    "import glob\n",
    "\n",
    "path = 'dataset\\\\cstyle_dataset\\\\'\n",
    "all_files = glob.glob(os.path.join(path, \"*.txt\")) \n",
    "\n",
    "frames = []\n",
    "for f in all_files:\n",
    "    file_df = pd.read_csv(f, header=None, index_col=None, sep='\\n', names=['text'], engine='python')\n",
    "    labels = [f.replace(path+'jstor_', '').replace('.txt', '') for x in range(len(file_df))]\n",
    "    file_df['label'] = labels\n",
    "    frames.append(file_df)\n",
    "    \n",
    "df   = pd.concat(frames, axis=0, ignore_index=True)\n",
    "df"
   ]
  },
  {
   "cell_type": "code",
   "execution_count": 60,
   "metadata": {},
   "outputs": [],
   "source": [
    "''' Preprocess text column -- separate symbols with spaces to preserve punctuation as tokens'''\n",
    "def preprocess(text):\n",
    "    for i in range(len(text)):\n",
    "        text[i] = text[i].translate({ord(i):\" {} \".format(i) for i in ',.()[]:;\\'\\\"-'})\n",
    "    return text\n",
    "df.text = preprocess(df.text)"
   ]
  },
  {
   "cell_type": "code",
   "execution_count": 51,
   "metadata": {},
   "outputs": [],
   "source": [
    "''' Create training and test dataset'''\n",
    "from sklearn.model_selection import train_test_split\n",
    "X_train, X_test, y_train, y_test = train_test_split(df.text, df.label, test_size=0.25, random_state=42)"
   ]
  },
  {
   "cell_type": "code",
   "execution_count": 52,
   "metadata": {},
   "outputs": [
    {
     "name": "stdout",
     "output_type": "stream",
     "text": [
      "mla                          5513\n",
      "chicago-author-date          5415\n",
      "american-chemical-society    5400\n",
      "ieee                         5361\n",
      "apa                          5342\n",
      "acm-sig-proceedings          5296\n",
      "harvard3                     5250\n",
      "Name: label, dtype: int64\n",
      "harvard3                     1842\n",
      "acm-sig-proceedings          1831\n",
      "mla                          1819\n",
      "apa                          1798\n",
      "ieee                         1771\n",
      "american-chemical-society    1740\n",
      "chicago-author-date          1725\n",
      "Name: label, dtype: int64\n",
      "<class 'pandas.core.series.Series'>\n"
     ]
    }
   ],
   "source": [
    "print(y_train.value_counts())\n",
    "print(y_test.value_counts())\n",
    "print(type(y_test.value_counts()))"
   ]
  },
  {
   "cell_type": "code",
   "execution_count": 53,
   "metadata": {},
   "outputs": [],
   "source": [
    "''' Will try a few approaches to categorising citation styles.\n",
    "    First will be a naive one -- take strings, get tfidf vectors, then feed into LR.\n",
    "    Second will like the one in crossref -- just use the orthographic features.\n",
    "    Open bracket, close bracket, open sqbracket, close sqbracket,\n",
    "    number, capitalised word, word, uppercase letter, \n",
    "    fullstop/dot, comma, colon, semicolon, quotation marks'''\n",
    "from sklearn.feature_extraction.text import TfidfVectorizer\n",
    "from sklearn.pipeline import Pipeline\n",
    "from sklearn.model_selection import GridSearchCV\n",
    "from sklearn.metrics import f1_score, plot_confusion_matrix, confusion_matrix as cm\n",
    "from sklearn.preprocessing import StandardScaler\n",
    "\n",
    "pipeline = Pipeline([\n",
    "    ('features', TfidfVectorizer(ngram_range=(1,3), lowercase=False, token_pattern=r\"\\S+\")), #r\"(?u)(\\b\\w+\\b|[\\.\\\"(),\\'\\[\\]:;])\")),\n",
    "    ('scaler', StandardScaler(with_mean=False)),\n",
    "    ('classifier', LogisticRegression(class_weight='balanced'))\n",
    "])\n",
    "params = {'classifier__C': [0.001],\n",
    "         'classifier__max_iter': [500],}\n",
    "gs = GridSearchCV(pipeline, params, refit=True, cv=2, scoring='f1_macro', verbose=10)"
   ]
  },
  {
   "cell_type": "code",
   "execution_count": 54,
   "metadata": {},
   "outputs": [
    {
     "name": "stdout",
     "output_type": "stream",
     "text": [
      "Fitting 2 folds for each of 1 candidates, totalling 2 fits\n",
      "[CV 1/2; 1/1] START classifier__C=0.001, classifier__max_iter=500...............\n",
      "[CV 1/2; 1/1] END classifier__C=0.001, classifier__max_iter=500; total time=10.1min\n",
      "[CV 2/2; 1/1] START classifier__C=0.001, classifier__max_iter=500...............\n",
      "[CV 2/2; 1/1] END classifier__C=0.001, classifier__max_iter=500; total time= 9.9min\n",
      "Test F1 score: 0.9985693767832167\n",
      "[[1829    0    1    0    0    0    1]\n",
      " [   0 1740    0    0    0    0    0]\n",
      " [   2    0 1795    0    0    0    1]\n",
      " [   0    0    1 1721    0    0    3]\n",
      " [   1    0    3    0 1838    0    0]\n",
      " [   1    0    0    0    0 1769    1]\n",
      " [   0    0    0    3    0    0 1816]]\n"
     ]
    },
    {
     "data": {
      "image/png": "[encoded data removed]",
      "text/plain": [
       "<Figure size 432x288 with 2 Axes>"
      ]
     },
     "metadata": {
      "needs_background": "light"
     },
     "output_type": "display_data"
    }
   ],
   "source": [
    "gs.fit(X_train, y_train)\n",
    "y_pred = gs.predict(X_test)\n",
    "score = f1_score(y_test, y_pred, average='macro')\n",
    "cMtx = cm(y_test, y_pred)\n",
    "print('Test F1 score: {}'.format(score))\n",
    "print(cMtx)\n",
    "plot_confusion_matrix(gs, X_test, y_test, normalize='true', cmap='Blues')\n",
    "plt.show()"
   ]
  },
  {
   "cell_type": "code",
   "execution_count": 7,
   "metadata": {},
   "outputs": [
    {
     "data": {
      "text/plain": [
       "dict_keys(['memory', 'steps', 'verbose', 'features', 'scaler', 'classifier', 'features__analyzer', 'features__binary', 'features__decode_error', 'features__dtype', 'features__encoding', 'features__input', 'features__lowercase', 'features__max_df', 'features__max_features', 'features__min_df', 'features__ngram_range', 'features__norm', 'features__preprocessor', 'features__smooth_idf', 'features__stop_words', 'features__strip_accents', 'features__sublinear_tf', 'features__token_pattern', 'features__tokenizer', 'features__use_idf', 'features__vocabulary', 'scaler__copy', 'scaler__with_mean', 'scaler__with_std', 'classifier__C', 'classifier__class_weight', 'classifier__dual', 'classifier__fit_intercept', 'classifier__intercept_scaling', 'classifier__l1_ratio', 'classifier__max_iter', 'classifier__multi_class', 'classifier__n_jobs', 'classifier__penalty', 'classifier__random_state', 'classifier__solver', 'classifier__tol', 'classifier__verbose', 'classifier__warm_start'])"
      ]
     },
     "execution_count": 7,
     "metadata": {},
     "output_type": "execute_result"
    }
   ],
   "source": [
    "pipeline.get_params().keys() # For parameter optimization"
   ]
  },
  {
   "cell_type": "code",
   "execution_count": 55,
   "metadata": {},
   "outputs": [
    {
     "data": {
      "text/plain": [
       "['models\\\\cstyle_LR_punctuations_3gram.pkl']"
      ]
     },
     "execution_count": 55,
     "metadata": {},
     "output_type": "execute_result"
    }
   ],
   "source": [
    "''' load the saved model '''\n",
    "from joblib import dump\n",
    "dump(gs.best_estimator_, 'models\\\\cstyle_LR_punctuations_3gram.pkl')\n"
   ]
  },
  {
   "cell_type": "code",
   "execution_count": 61,
   "metadata": {},
   "outputs": [],
   "source": [
    "'''Test with unseen texts from another subject matter'''\n",
    "\n",
    "fpath = 'dataset\\\\jstor\\\\'\n",
    "all_files = glob.glob(os.path.join(fpath, \"unseen1000jstor_*.txt\")) \n",
    "frames = []\n",
    "for f in all_files:\n",
    "    file_df = pd.read_csv(f, header=None, index_col=None, sep='\\n', names=['text'], engine='python')\n",
    "    labels = [f.replace(fpath+'unseen1000jstor_', '').replace('.txt', '') for x in range(len(file_df))]\n",
    "    file_df['label'] = labels\n",
    "    frames.append(file_df)\n",
    "\n",
    "testdf   = pd.concat(frames, axis=0, ignore_index=True)\n",
    "testdf.text = preprocess(testdf.text)"
   ]
  },
  {
   "cell_type": "code",
   "execution_count": 62,
   "metadata": {},
   "outputs": [
    {
     "name": "stdout",
     "output_type": "stream",
     "text": [
      "Test F1 score: 0.9996849893792451\n",
      "[[907   0   0   0   0   0   0]\n",
      " [  0 907   0   0   0   0   0]\n",
      " [  0   0 907   0   0   0   0]\n",
      " [  0   0   0 907   0   0   0]\n",
      " [  0   0   0   0 907   0   0]\n",
      " [  2   0   0   0   0 905   0]\n",
      " [  0   0   0   0   0   0 907]]\n"
     ]
    },
    {
     "data": {
      "image/png": "[encoded data removed]",
      "text/plain": [
       "<Figure size 432x288 with 2 Axes>"
      ]
     },
     "metadata": {
      "needs_background": "light"
     },
     "output_type": "display_data"
    }
   ],
   "source": [
    "from joblib import load\n",
    "\n",
    "# gs = load('models\\\\cstyle_LR_punctuations.pkl')\n",
    "y_unseen = gs.predict(testdf.text)\n",
    "score = f1_score(testdf.label, y_unseen, average='macro')\n",
    "cMtx = cm(testdf.label, y_unseen)\n",
    "print('Test F1 score: {}'.format(score))\n",
    "print(cMtx)\n",
    "plot_confusion_matrix(gs, testdf.text, testdf.label, normalize='true', cmap='Blues')\n",
    "plt.show()"
   ]
  },
  {
   "cell_type": "code",
   "execution_count": null,
   "metadata": {},
   "outputs": [],
   "source": []
  }
 ],
 "metadata": {
  "kernelspec": {
   "display_name": "Python 3",
   "language": "python",
   "name": "python3"
  },
  "language_info": {
   "codemirror_mode": {
    "name": "ipython",
    "version": 3
   },
   "file_extension": ".py",
   "mimetype": "text/x-python",
   "name": "python",
   "nbconvert_exporter": "python",
   "pygments_lexer": "ipython3",
   "version": "3.6.9"
  }
 },
 "nbformat": 4,
 "nbformat_minor": 4
}
