{
 "cells": [
  {
   "cell_type": "code",
   "execution_count": 8,
   "metadata": {},
   "outputs": [],
   "source": [
    "import torch\n",
    "import torch.nn as nn\n"
   ]
  },
  {
   "cell_type": "code",
   "execution_count": 2,
   "metadata": {},
   "outputs": [
    {
     "name": "stdout",
     "output_type": "stream",
     "text": [
      "Requirement already satisfied: nltk in c:\\users\\yi wai\\appdata\\local\\programs\\python\\python38\\lib\\site-packages (3.5)\n",
      "Requirement already satisfied: tqdm in c:\\users\\yi wai\\appdata\\local\\programs\\python\\python38\\lib\\site-packages (from nltk) (4.57.0)\n",
      "Requirement already satisfied: regex in c:\\users\\yi wai\\appdata\\local\\programs\\python\\python38\\lib\\site-packages (from nltk) (2020.11.13)\n",
      "Requirement already satisfied: joblib in c:\\users\\yi wai\\appdata\\local\\programs\\python\\python38\\lib\\site-packages (from nltk) (1.0.1)\n",
      "Requirement already satisfied: click in c:\\users\\yi wai\\appdata\\local\\programs\\python\\python38\\lib\\site-packages (from nltk) (7.1.2)\n",
      "WARNING: You are using pip version 20.1; however, version 21.0.1 is available.\n",
      "You should consider upgrading via the 'c:\\users\\yi wai\\appdata\\local\\programs\\python\\python38\\python.exe -m pip install --upgrade pip' command.\n"
     ]
    }
   ],
   "source": [
    "!pip install nltk"
   ]
  },
  {
   "cell_type": "code",
   "execution_count": 4,
   "metadata": {
    "tags": [
     "outputPrepend"
    ]
   },
   "outputs": [
    {
     "name": "stdout",
     "output_type": "stream",
     "text": [
      "other'), ('98', 'other'), ('.', 'punct'), ('Springer', 'other'), (',', 'punct'), ('2012', 'other'), ('.', 'punct')], [('A', 'title'), ('classification', 'title'), ('of', 'title'), ('simple', 'title'), ('modules', 'title'), ('of', 'title'), ('the', 'title'), ('Lie', 'title'), ('algebra', 'title'), ('of', 'title'), ('polynomial', 'title'), ('unitriangular', 'title'), ('derivations', 'title'), ('in', 'title'), ('two', 'title'), ('variables', 'title'), ('.', 'punct')], [('Phd-thesis', 'other'), (',', 'punct'), ('KU', 'other'), ('Leuven', 'other'), ('(', 'punct'), ('1995', 'other'), (')', 'punct'), ('.', 'punct')], [('2008', 'other'), (',', 'punct'), ('A', 'other'), ('&', 'punct'), ('A', 'other'), (',', 'punct'), ('478', 'other'), (',', 'punct'), ('83', 'other')], [('Available', 'other'), ('as', 'other'), ('arXiv', 'other'), (':', 'punct'), ('math.0603563', 'other'), ('.', 'punct')], [('Submitted', 'other'), ('to', 'other'), ('C.', 'other'), ('R.', 'other'), ('A.', 'other'), ('S', 'other'), ('.', 'punct')], [('J.', 'other'), ('of', 'other'), ('Neuroscience', 'other'), (',', 'punct'), ('7', 'other'), ('(', 'punct'), ('12', 'other'), (')', 'punct'), (':', 'punct'), ('4209-4223', 'other'), ('.', 'punct')], [('In', 'other'), ('CAV', 'other'), (',', 'punct'), ('volume', 'other'), ('6806', 'other'), ('of', 'other'), ('LNCS', 'other'), (',', 'punct'), ('pages', 'other'), ('585', 'other'), ('--', 'other'), ('591', 'other'), ('.', 'punct'), ('Springer', 'other'), (',', 'punct'), ('2011', 'other'), ('.', 'punct')], [('Ph.D', 'other'), ('.', 'punct'), ('thesis', 'other'), (',', 'punct'), ('University', 'other'), ('of', 'other'), ('Tokyo', 'other'), (',', 'punct'), ('2001', 'other'), ('.', 'punct')], [('2010', 'other'), (',', 'punct'), ('ApJ', 'other'), (',', 'punct'), ('712', 'other'), (',', 'punct'), ('1129', 'other')], [('J.', 'other'), ('Amer', 'other'), ('.', 'punct'), ('Statist', 'other'), ('.', 'punct'), ('Assoc', 'other'), ('.', 'punct'), ('.', 'punct'), ('89', 'other'), ('1000', 'other'), ('--', 'other'), ('1005', 'other'), ('.', 'punct')], [('Studia', 'other'), ('Math', 'other'), ('.', 'punct'), ('158', 'other'), ('(', 'punct'), ('2003', 'other'), (')', 'punct'), (',', 'punct'), ('163', 'other'), ('--', 'other'), ('198', 'other'), ('.', 'punct')], [('In', 'other'), ('<', 'punct'), ('person-first', 'other'), ('>', 'punct'), ('P.', 'other'), ('<', 'punct'), ('/person-first', 'other'), ('>', 'punct'), ('<', 'punct'), ('person-last', 'other'), ('>', 'punct'), ('Sojka', 'other'), (',', 'punct'), ('<', 'punct'), ('/person-last', 'other'), ('>', 'punct'), ('editor', 'other'), (',', 'punct'), ('Towards', 'other'), ('a', 'other'), ('Digital', 'other'), ('Mathematics', 'other'), ('Lbrary', 'other'), (',', 'punct'), ('pages', 'other'), ('55', 'other'), ('--', 'other'), ('67', 'other'), (',', 'punct'), ('2008', 'other'), ('.', 'punct')], [('Nagoya', 'other'), ('Math', 'other'), ('.', 'punct'), ('J', 'other'), ('.', 'punct'), ('29', 'other'), ('(', 'punct'), ('1967', 'other'), (')', 'punct'), (',', 'punct'), ('75', 'other'), ('--', 'other'), ('84', 'other'), ('.', 'punct')], [('American', 'other'), ('Mathematical', 'other'), ('Society', 'other'), (',', 'punct'), ('Pro-', 'other'), ('vidence', 'other'), (',', 'punct'), ('Rhode', 'other'), ('Island', 'other'), (',', 'punct'), ('1939', 'other'), ('(', 'punct'), ('fourth', 'other'), ('edition', 'other'), (',', 'punct'), ('1975', 'other'), (')', 'punct'), ('.', 'punct')], [('(', 'punct'), ('Springer', 'other'), (',', 'punct'), ('New', 'other'), ('York', 'other'), ('1990', 'other'), (')', 'punct'), ('.', 'punct')], [('Algebra', 'other'), ('and', 'other'), ('Number', 'other'), ('Theory', 'other'), (',', 'punct'), ('4', 'other'), ('(', 'punct'), ('4', 'other'), (')', 'punct'), (':', 'punct'), ('433', 'other'), ('--', 'other'), ('463', 'other'), (',', 'punct'), ('2010', 'other'), ('.', 'punct')], [('Math.Z', 'other'), ('.', 'punct'), ('259', 'other'), ('(', 'punct'), ('2008', 'other'), (')', 'punct'), (',', 'punct'), ('no', 'other'), ('.', 'punct'), ('1', 'other'), (',', 'punct'), ('217230', 'other'), ('.', 'punct')], [('J.', 'other'), ('Phys', 'other'), ('.', 'punct'), ('A', 'other'), ('21', 'other'), (',', 'punct'), ('685', 'other'), ('(', 'punct'), ('1988', 'other'), (')', 'punct'), ('.', 'punct')], [('2009', 'other'), (',', 'punct'), ('MNRAS', 'other'), (',', 'punct'), ('399', 'other'), (',', 'punct'), ('L64', 'other')], [('2008', 'other'), (',', 'punct'), ('MNRAS', 'other'), (',', 'punct'), ('388', 'other'), (',', 'punct'), ('1803', 'other')], [('2010', 'other'), (',', 'punct'), ('A', 'other'), ('&', 'punct'), ('A', 'other'), (',', 'punct'), ('516', 'other'), (',', 'punct'), ('25', 'other')], [('Available', 'other'), ('as', 'other'), ('arXiv:0911.2483', 'other'), ('.', 'punct')], [('Geom', 'other'), ('.', 'punct'), ('Dedicata', 'other'), ('108', 'other'), ('(', 'punct'), ('2004', 'other'), (')', 'punct'), ('15-69', 'other'), ('.', 'punct')], [('Technical', 'other'), ('report', 'other'), (',', 'punct'), ('2005', 'other'), ('.', 'punct')], [('The', 'title'), ('groups', 'title'), ('of', 'title'), ('automorphisms', 'title'), ('of', 'title'), ('the', 'title'), ('Lie', 'title'), ('algebras', 'title'), ('of', 'title'), ('unitriangular', 'title'), ('polynomial', 'title'), ('deriva-', 'title'), ('tions', 'title'), ('.', 'punct')], [('1995', 'other'), (',', 'punct'), ('A', 'other'), ('&', 'punct'), ('SS', 'other'), (',', 'punct'), ('231', 'other'), (',', 'punct'), ('187', 'other')], [('1966', 'other'), (',', 'punct'), ('PRL', 'other'), (',', 'punct'), ('16', 'other'), (',', 'punct'), ('748', 'other')], [('1977', 'other'), (',', 'punct'), ('MNRAS', 'other'), (',', 'punct'), ('181', 'other'), (',', 'punct'), ('441', 'other')], [('1986', 'other'), (',', 'punct'), ('ApJ', 'other'), (',', 'punct'), ('301', 'other'), (',', 'punct'), ('503', 'other')], [('Graphs', 'other'), ('Combin', 'other'), ('.', 'punct'), (',', 'punct'), ('24', 'other'), (':', 'punct'), ('113', 'other'), ('--', 'other'), ('125', 'other'), (',', 'punct'), ('2008', 'other'), ('.', 'punct')], [('1955', 'other'), (',', 'punct'), ('ApJ', 'other'), (',', 'punct'), ('121', 'other'), (',', 'punct'), ('161', 'other')], [('Ph.D', 'other'), ('thesis', 'other'), (',', 'punct'), ('Univ', 'other'), ('.', 'punct'), ('of', 'other'), ('Vienna', 'other'), ('1989', 'other'), ('.', 'punct')], [('2007', 'other'), (',', 'punct'), ('Protostars', 'other'), ('and', 'other'), ('Planets', 'other'), ('V', 'other'), (',', 'punct'), ('523', 'other')], [('Phy', 'other'), ('.', 'punct'), ('Rep', 'other'), ('.', 'punct'), ('195', 'other'), (',', 'punct'), ('127', 'other'), ('(', 'punct'), ('1990', 'other'), (')', 'punct'), ('.', 'punct')], [('1997', 'other'), (',', 'punct'), ('A', 'other'), ('&', 'punct'), ('A', 'other'), (',', 'punct'), ('317', 'other'), (',', 'punct'), ('405', 'other')], [('Inverse', 'other'), ('Problem', 'other'), ('24', 'other'), ('025028', 'other'), ('.', 'punct')], [('2010', 'other'), (',', 'punct'), ('Nature', 'other'), (',', 'punct'), ('468', 'other'), (',', 'punct'), ('940', 'other')], [('Ann', 'other'), ('.', 'punct'), ('Inst', 'other'), ('.', 'punct'), ('Fourier', 'other'), ('(', 'punct'), ('Grenoble', 'other'), (')', 'punct'), (',', 'punct'), ('60', 'other'), ('(', 'punct'), ('2010', 'other'), (')', 'punct'), (',', 'punct'), ('no', 'other'), ('.', 'punct'), ('5', 'other'), (',', 'punct'), ('1857-1869', 'other'), ('.', 'punct')], [('2011', 'other'), (',', 'punct'), ('AJ', 'other'), (',', 'punct'), ('141', 'other'), (',', 'punct'), ('64', 'other')], [('Phys', 'other'), ('.', 'punct'), ('Rev', 'other'), ('.', 'punct'), ('Lett', 'other'), ('.', 'punct'), ('83', 'other'), (',', 'punct'), ('1467', 'other'), ('(', 'punct'), ('1999', 'other'), (')', 'punct')], [('Phys', 'other'), ('.', 'punct'), ('Rev', 'other'), ('.', 'punct'), ('E', 'other'), ('47', 'other'), (',', 'punct'), ('2366', 'other'), ('(', 'punct'), ('1993', 'other'), (')', 'punct'), (';', 'punct')], [('MPRA', 'other'), ('Paper', 'other'), ('2737', 'other'), (',', 'punct'), ('University', 'other'), ('Library', 'other'), ('of', 'other'), ('Munich', 'other'), (',', 'punct'), ('Germany', 'other'), ('.', 'punct')], [('Brain', 'other'), ('Research', 'other'), (',', 'punct'), ('481', 'other'), (':', 'punct'), ('403-6', 'other'), ('.', 'punct')], [('Trans', 'other'), ('.', 'punct'), ('Amer', 'other'), ('.', 'punct'), ('Math', 'other'), ('.', 'punct'), ('Soc', 'other'), ('.', 'punct'), ('339', 'other'), (',', 'punct'), ('no', 'other'), ('.', 'punct'), ('2', 'other'), ('.', 'punct'), ('1993', 'other'), (',', 'punct'), ('581-607', 'other'), ('.', 'punct')], [('MR1939342', 'other')], [('In', 'other'), ('MoChArt', 'other'), (',', 'punct'), ('volume', 'other'), ('6572', 'other'), ('of', 'other'), ('LNCS', 'other'), (',', 'punct'), ('pages', 'other'), ('85', 'other'), ('--', 'other'), ('94', 'other'), ('.', 'punct'), ('Springer', 'other'), (',', 'punct'), ('2010', 'other'), ('.', 'punct')], [('Europ', 'other'), ('.', 'punct'), ('J.', 'other'), ('Comb', 'other'), ('.', 'punct'), ('12', 'other'), ('(', 'punct'), ('1991', 'other'), (')', 'punct'), (',', 'punct'), ('283-291', 'other'), ('.', 'punct')], [('J', 'other'), ('.', 'punct'), ('Math', 'other'), ('.', 'punct'), ('Sci', 'other'), ('.', 'punct'), ('113', 'other'), ('(', 'punct'), ('2003', 'other'), (')', 'punct'), (',', 'punct'), ('849-855', 'other'), ('.', 'punct')], [('Discrete', 'other'), ('Math', 'other'), ('.', 'punct'), ('277', 'other'), ('(', 'punct'), ('2004', 'other'), (')', 'punct'), (',', 'punct'), ('45', 'other'), ('--', 'other'), ('56', 'other'), ('.', 'punct')], [('1996', 'other'), (',', 'punct'), ('MNRAS', 'other'), (',', 'punct'), ('278', 'other'), (',', 'punct'), ('367', 'other')], [('2012', 'other'), (',', 'punct'), ('in', 'other'), ('preparation', 'other')], [('(', 'punct'), ('Addison-Wesley', 'other'), (',', 'punct'), ('Reading', 'other'), ('MA', 'other'), (',', 'punct'), ('1978', 'other'), (')', 'punct'), ('.', 'punct')], [('MR2435448', 'other')], [('2000', 'other'), (',', 'punct'), ('A', 'other'), ('&', 'punct'), ('A', 'other'), (',', 'punct'), ('363', 'other'), (',', 'punct'), ('9', 'other')], [('(', 'punct'), ('submitted', 'other'), (')', 'punct'), (',', 'punct'), ('http', 'other'), (':', 'punct'), ('//arxiv.org/abs/0709.4485', 'other')], [('Doc-', 'other'), ('toral', 'other'), ('Thesis', 'other'), (',', 'punct'), ('Published', 'other'), ('by', 'other'), ('the', 'other'), ('Department', 'other'), ('of', 'other'), ('Publications', 'other'), ('of', 'other'), ('the', 'other'), ('Faculty', 'other'), ('of', 'other'), ('Sciences', 'other'), ('of', 'other'), ('the', 'other'), ('Universidad', 'other'), ('Complutense', 'other'), ('of', 'other'), ('Madrid', 'other'), (',', 'punct'), ('1971', 'other'), ('.', 'punct')], [('2008', 'other'), (',', 'punct'), ('ApJ', 'other'), (',', 'punct'), ('673', 'other'), (',', 'punct'), ('34', 'other')], [('Discrete', 'other'), ('Math', 'other'), ('.', 'punct'), ('281', 'other'), ('(', 'punct'), ('2004', 'other'), (')', 'punct'), (',', 'punct'), ('163', 'other'), ('--', 'other'), ('172', 'other'), ('.', 'punct')], [('System', 'other'), ('identification', 'other'), (':', 'punct'), ('theory', 'other'), ('for', 'other'), ('the', 'other'), ('user', 'other'), ('(', 'punct'), ('2nd', 'other'), ('Ed', 'other'), ('.', 'punct'), (')', 'punct'), ('.', 'punct'), ('Prentice-', 'other'), ('Hall', 'other'), (',', 'punct'), ('Inc', 'other'), ('.', 'punct'), (',', 'punct'), ('Upper', 'other'), ('Saddle', 'other'), ('River', 'other'), (',', 'punct'), ('NJ', 'other'), (',', 'punct'), ('USA', 'other'), (',', 'punct'), ('1999', 'other'), ('.', 'punct')], [('J.', 'other'), ('Multiv', 'other'), ('.', 'punct'), ('Anal', 'other'), ('.', 'punct'), ('98', 'other'), ('57', 'other'), ('--', 'other'), ('75', 'other')], [('Int', 'other'), ('.', 'punct'), ('Math', 'other'), ('.', 'punct'), ('Res', 'other'), ('.', 'punct'), ('Not', 'other'), ('.', 'punct'), ('50', 'other'), (',', 'punct'), ('2004', 'other'), (',', 'punct'), ('2665', 'other'), ('--', 'other'), ('2701', 'other'), ('.', 'punct')], [('In', 'other'), ('CAV', 'other'), (',', 'punct'), ('volume', 'other'), ('4144', 'other'), ('of', 'other'), ('LNCS', 'other'), (',', 'punct'), ('pages', 'other'), ('31', 'other'), ('--', 'other'), ('44', 'other'), ('.', 'punct'), ('Springer', 'other'), (',', 'punct'), ('2006', 'other'), ('.', 'punct')], [('[', 'punct'), ('astro-ph/0511396', 'other'), (']', 'punct'), ('.', 'punct')], [('In', 'other'), (':', 'punct'), ('Virus', 'other'), ('Dy-', 'other'), ('namics', 'other'), (':', 'punct'), ('Mathematical', 'other'), ('Principles', 'other'), ('of', 'other'), ('Immunology', 'other'), ('and', 'other'), ('Virology', 'other'), ('.', 'punct'), ('New', 'other'), ('York', 'other'), (':', 'punct'), ('Oxford', 'other'), ('University', 'other'), ('Press', 'other'), (',', 'punct'), ('2000', 'other'), (':', 'punct'), ('16', 'other'), ('--', 'other'), ('26', 'other'), ('.', 'punct')], [('2008', 'other'), (',', 'punct'), ('ApJ', 'other'), (',', 'punct'), ('674', 'other'), (',', 'punct'), ('29', 'other')], [('Discrete', 'other'), ('Math', 'other'), ('.', 'punct'), (',', 'punct'), ('307', 'other'), (':', 'punct'), ('1754', 'other'), ('--', 'other'), ('1766', 'other'), (',', 'punct'), ('2007', 'other'), ('.', 'punct')], [('Publ', 'other'), ('.', 'punct'), ('Math', 'other'), ('.', 'punct'), ('IHES', 'other'), ('67', 'other'), ('(', 'punct'), ('1988', 'other'), (')', 'punct'), (',', 'punct'), ('43', 'other'), ('--', 'other'), ('96', 'other'), ('.', 'punct')], [('http', 'other'), (':', 'punct'), ('//www.thejakartapost.com/news/2009/06/05/blame-game-starts-over-misuse-law-prita-mulyasari-case.html', 'other')], [('1997', 'other'), (',', 'punct'), ('in', 'other'), ('The', 'other'), ('Fourth', 'other'), ('Compton', 'other'), ('Symposium', 'other'), (',', 'punct'), ('ed', 'other'), ('.', 'punct'), ('<', 'punct'), ('person-first', 'other'), ('>', 'punct'), ('C.', 'other'), ('<', 'punct'), ('/person-first', 'other'), ('>', 'punct'), ('<', 'punct'), ('person-middle', 'other'), ('>', 'punct'), ('D.', 'other'), ('<', 'punct'), ('/person-middle', 'other'), ('>', 'punct'), ('<', 'punct'), ('person-last', 'other'), ('>', 'punct'), ('Dermer', 'other'), (',', 'punct'), ('<', 'punct'), ('/person-last', 'other'), ('>', 'punct'), ('<', 'punct'), ('person-first', 'other'), ('>', 'punct'), ('M.', 'other'), ('<', 'punct'), ('/person-first', 'other'), ('>', 'punct'), ('<', 'punct'), ('person-middle', 'other'), ('>', 'punct'), ('S.', 'other'), ('<', 'punct'), ('/person-middle', 'other'), ('>', 'punct'), ('<', 'punct'), ('person-last', 'other'), ('>', 'punct'), ('Strickman', 'other'), (',', 'punct'), ('<', 'punct'), ('/person-last', 'other'), ('>', 'punct'), ('&', 'punct'), ('<', 'punct'), ('person-first', 'other'), ('>', 'punct'), ('J', 'other'), ('.', 'punct'), ('<', 'punct'), ('/person-first', 'other'), ('>', 'punct'), ('<', 'punct'), ('person-middle', 'other'), ('>', 'punct'), ('D.', 'other'), ('<', 'punct'), ('/person-middle', 'other'), ('>', 'punct'), ('<', 'punct'), ('person-last', 'other'), ('>', 'punct'), ('Kurfess', 'other'), ('<', 'punct'), ('/person-last', 'other'), ('>', 'punct'), ('(', 'punct'), ('New', 'other'), ('York', 'other'), (':', 'punct'), ('AIP', 'other'), (')', 'punct'), (',', 'punct'), ('509', 'other')], [('Acta', 'other'), ('Math', 'other'), ('.', 'punct'), ('156', 'other'), ('(', 'punct'), ('1986', 'other'), (')', 'punct'), (',', 'punct'), ('153', 'other'), ('--', 'other'), ('201', 'other'), ('.', 'punct')], [('MR0668683', 'other')], [('J.', 'other'), ('Geophysical', 'other'), ('Research', 'other'), ('103', 'other'), ('32,277', 'other'), ('--', 'other'), ('32,290', 'other'), ('.', 'punct')], [('Found', 'other'), ('.', 'punct'), ('Phys', 'other'), ('.', 'punct'), ('24', 'other'), (',', 'punct'), ('1227', 'other'), ('--', 'other'), ('1259', 'other'), ('(', 'punct'), ('1994', 'other'), (')', 'punct')], [('Ann', 'other'), ('.', 'punct'), ('Statist', 'other'), ('.', 'punct'), ('19', 'other'), ('1257', 'other'), ('--', 'other'), ('1272', 'other')], [('1991', 'other'), (',', 'punct'), ('A', 'other'), ('&', 'punct'), ('A', 'other'), (',', 'punct'), ('243', 'other'), (',', 'punct'), ('118', 'other')], [('2011', 'other'), (',', 'punct'), ('ApJL', 'other'), (',', 'punct'), ('737', 'other'), (',', 'punct'), ('50', 'other')], [('Int', 'other'), ('.', 'punct'), ('J.', 'other'), ('of', 'other'), ('Bifurcations', 'other'), ('&', 'punct'), ('Chaos', 'other'), (',', 'punct'), ('17', 'other'), (':', 'punct'), ('2319', 'other'), ('#', 'punct'), ('2329', 'other'), (',', 'punct'), ('2007', 'other'), ('.', 'punct')], [('2008', 'other'), (',', 'punct'), ('ApJ', 'other'), (',', 'punct'), ('689', 'other'), (',', 'punct'), ('755', 'other')], [('Cambridge', 'other'), ('University', 'other'), ('Press', 'other'), ('.', 'punct'), ('29', 'other'), ('.', 'punct'), ('2000', 'other'), ('.', 'punct')], [('AIP', 'other'), ('Con-', 'other'), ('ference', 'other'), ('Proceedings', 'other'), ('1232', 'other'), (',', 'punct'), ('pp', 'other'), ('.', 'punct'), ('33', 'other'), ('--', 'other'), ('44', 'other'), ('(', 'punct'), ('2010', 'other'), (')', 'punct')], [('Proc', 'other'), ('Natl', 'other'), ('Acad', 'other'), ('Sci', 'other'), ('USA', 'other'), ('1999', 'other'), (',', 'punct'), ('96', 'other'), (':', 'punct'), ('15167', 'other'), ('--', 'other'), ('72', 'other'), ('.', 'punct')], [('1999', 'other'), (',', 'punct'), ('AJ', 'other'), (',', 'punct'), ('117', 'other'), (',', 'punct'), ('792', 'other')], [('2000', 'other'), (',', 'punct'), ('AJ', 'other'), (',', 'punct'), ('119', 'other'), (',', 'punct'), ('1645', 'other')], [('(', 'punct'), ('astro-ph/9703140', 'other'), (')', 'punct')], [('Math', 'other'), ('Notes', 'other'), (',', 'punct'), ('41', 'other'), (':', 'punct'), ('247', 'other'), ('--', 'other'), ('259', 'other'), (',', 'punct'), ('1987', 'other'), ('.', 'punct'), ('Translated', 'other'), ('from', 'other'), ('Mat', 'other'), ('.', 'punct'), ('Zametki', 'other'), ('.', 'punct')], [('Comm', 'other'), ('.', 'punct'), ('in', 'other'), ('Algebra', 'other'), ('14', 'other'), ('(', 'punct'), ('1986', 'other'), (')', 'punct'), (',', 'punct'), ('293-310', 'other')], [('[', 'punct'), ('hep-ph/9606412', 'other'), (']', 'punct'), ('.', 'punct')], [('MPRA', 'other'), ('Paper', 'other'), ('2735', 'other'), (',', 'punct'), ('University', 'other'), ('Library', 'other'), ('of', 'other'), ('Munich', 'other'), (',', 'punct'), ('Germany', 'other'), ('.', 'punct')], [('Every', 'title'), ('monomorphism', 'title'), ('of', 'title'), ('the', 'title'), ('Lie', 'title'), ('algebra', 'title'), ('of', 'title'), ('unitriangular', 'title'), ('polynomial', 'title'), ('derivations', 'title'), ('is', 'title'), ('an', 'title'), ('automorphism', 'title'), ('.', 'punct')], [('2009', 'other'), (',', 'punct'), ('AJ', 'other'), (',', 'punct'), ('137', 'other'), (',', 'punct'), ('4716', 'other')], [('Adv', 'other'), ('.', 'punct'), ('Math', 'other'), ('.', 'punct'), ('Phys', 'other'), ('.', 'punct'), ('Astronomy', 'other'), (',', 'punct'), ('31', 'other'), ('(', 'punct'), ('1986', 'other'), (')', 'punct'), ('241', 'other'), ('(', 'punct'), ('in', 'other'), ('Czech', 'other'), (')', 'punct')], [('1990', 'other'), (',', 'punct'), ('ApJ', 'other'), (',', 'punct'), ('360', 'other'), (',', 'punct'), ('702', 'other')], [('J', 'other'), ('.', 'punct'), ('Math', 'other'), ('.', 'punct'), ('Phy', 'other'), ('.', 'punct'), ('45', 'other'), (',', 'punct'), ('2004', 'other'), (',', 'punct'), ('3058-3085', 'other'), ('.', 'punct')], [('Int', 'other'), ('.', 'punct'), ('J.', 'other'), ('Theor', 'other'), ('.', 'punct'), ('Phys', 'other'), ('.', 'punct'), ('38', 'other'), (',', 'punct'), ('407', 'other'), ('--', 'other'), ('429', 'other'), ('(', 'punct'), ('1999', 'other'), (')', 'punct')], [('2008', 'other'), ('.', 'punct'), ('see', 'other'), ('https', 'other'), (':', 'punct'), ('//trac.kwarc.info/MMT/', 'other'), ('.', 'punct')]]\n"
     ]
    }
   ],
   "source": [
    "''' \n",
    "Preprocess Data\n",
    "'''\n",
    "import re\n",
    "import string\n",
    "import nltk\n",
    "from nltk import word_tokenize\n",
    "\n",
    "OTHER_TAG = \"other\"\n",
    "PUNCT_TAG = \"punct\"\n",
    "\n",
    "with open('./utils/tags.txt', encoding=\"utf-8\", errors='ignore') as f:\n",
    "    tags = set([tag for tag in f.readlines()])\n",
    "\n",
    "def tag_token(token, tag):\n",
    "    if token in string.punctuation:\n",
    "        return (token, PUNCT_TAG)\n",
    "    return (token, tag)\n",
    "\n",
    "def get_tagged_tokens(groups):\n",
    "    for group in groups:\n",
    "        ref, tag = group[0], group[1]\n",
    "        if tag not in tags:\n",
    "            tag = OTHER_TAG\n",
    "        unlabelled = re.sub(r'\\<\\/?\\w*\\>\\s*', \"\", ref).strip()\n",
    "        tokens = word_tokenize(unlabelled)\n",
    "        tagged_tokens = list(map(lambda token: tag_token(token, tag), tokens))\n",
    "    return tagged_tokens\n",
    "\n",
    "dataset = []\n",
    "with open('./dataset/standardized_dataset.txt', encoding=\"utf-8\", errors='ignore') as f:\n",
    "    refs = f.readlines()\n",
    "    for ref in refs:\n",
    "        groups = re.findall(r'(\\<(.*)\\>.*\\<\\/\\2\\>)', ref) # format (<tag>...</tag>, tag)\n",
    "        tagged_tokens = get_tagged_tokens(groups)\n",
    "        dataset.append(tagged_tokens)\n",
    "\n",
    "print(dataset)"
   ]
  },
  {
   "cell_type": "code",
   "execution_count": 9,
   "metadata": {},
   "outputs": [],
   "source": [
    "class LSTM(nn.Module):\n",
    "    def __init__(self, input_size, hidden_size, output_size, num_layers):\n",
    "        super(LSTM, self).__init__()\n",
    "        self.input_size = input_size\n",
    "        self.hidden_size = hidden_size\n",
    "        self.output_size = output_size\n",
    "        self.num_layers = num_layers\n",
    "\n",
    "        self.lstm = nn.LSTM(\n",
    "            input_size = self.input_size,\n",
    "            hidden_size = self.hidden_size,\n",
    "            num_layers = self.num_layers,\n",
    "            batch_first = True\n",
    "        )\n",
    "\n",
    "    def forward(self, x):\n",
    "        # Initialise hidden state\n",
    "        h0 = torch.zeros(self.num_layers, x.size(0), self.hidden_size)\n",
    "\n",
    "        # Initialise internal state\n",
    "        c0 = torch.zeros(self.num_layers, x.size(0), self.hidden_size)\n",
    "\n",
    "        # Propagate input through LSTM\n",
    "        output, (hn, cn) = self.lstm(x, (h_0, c_0))\n",
    "        \n",
    "        return output, (hn, cn)\n"
   ]
  },
  {
   "cell_type": "code",
   "execution_count": 14,
   "metadata": {},
   "outputs": [],
   "source": [
    "class Net(nn.Module):\n",
    "    def __init__(self, input_size, hidden_size, output_size, num_layers):\n",
    "        super().__init__()\n",
    "        self.hidden_size = hidden_size\n",
    "        \n",
    "        self.lstm = LSTM(input_size, hidden_size, output_size, num_layers)\n",
    "        self.fc1 = nn.Linear(hidden_size, 128)\n",
    "        self.fc = nn.Linear(128, output_size)\n",
    "        self.relu = nn.ReLU()\n",
    "\n",
    "    def forward(self, x):\n",
    "        output, (hn, cn) = self.lstm(x)\n",
    "        hn = hn.view(-1, self.hidden_size)\n",
    "\n",
    "        output = self.relu(hn)\n",
    "        output = self.fc1(output)\n",
    "        output = self.relu(output)\n",
    "        output = self.fc(output)\n",
    "\n",
    "        return output\n"
   ]
  },
  {
   "cell_type": "code",
   "execution_count": 16,
   "metadata": {},
   "outputs": [],
   "source": [
    "'''\n",
    "Hyperparameters\n",
    "'''\n",
    "num_epochs = 1000\n",
    "learning_rate = 0.001\n",
    "\n",
    "input_size = 5 # Number of features\n",
    "hidden_size = 2 # Number of features in the hidden state\n",
    "num_layers = 1 # Number of stacked LSTM layers\n",
    "\n",
    "output_size = 2 # Number of output classes\n",
    "\n",
    "model = Net(input_size, hidden_size, output_size, num_layers)"
   ]
  },
  {
   "cell_type": "code",
   "execution_count": 17,
   "metadata": {},
   "outputs": [],
   "source": [
    "'''\n",
    "Loss Function and Optimiser\n",
    "'''\n",
    "criterion = nn.CrossEntropyLoss() \n",
    "optimiser = torch.optim.Adam(model.parameters(), lr = learning_rate)"
   ]
  },
  {
   "cell_type": "code",
   "execution_count": null,
   "metadata": {},
   "outputs": [],
   "source": [
    "# TODO: Obtain data x_train and y_train\n",
    "for epoch in range(num_epochs):\n",
    "    outputs = model.forward(x_train)\n",
    "    optimizer.zero_grad()\n",
    "\n",
    "    # Get the loss function\n",
    "    loss = criterion(outputs, y_train)\n",
    "\n",
    "    # Calculate loss\n",
    "    loss.backward()\n",
    "\n",
    "    # Backpropagation\n",
    "    optimizer.step()\n",
    "\n",
    "    # Print loss at every 100th epoch\n",
    "    if epoch % 100 == 0:\n",
    "        print(\"Epoch: %d, loss: %1.5f\" % (epoch, loss.item()))"
   ]
  }
 ],
 "metadata": {
  "kernelspec": {
   "display_name": "nlp",
   "language": "python",
   "name": "nlp"
  },
  "language_info": {
   "codemirror_mode": {
    "name": "ipython",
    "version": 3
   },
   "file_extension": ".py",
   "mimetype": "text/x-python",
   "name": "python",
   "nbconvert_exporter": "python",
   "pygments_lexer": "ipython3",
   "version": "3.8.2"
  }
 },
 "nbformat": 4,
 "nbformat_minor": 2
}
