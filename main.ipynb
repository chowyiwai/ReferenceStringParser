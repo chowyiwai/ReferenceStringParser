{
  "nbformat": 4,
  "nbformat_minor": 0,
  "metadata": {
    "colab": {
      "name": "reference_parsing.ipynb",
      "provenance": [],
      "collapsed_sections": []
    },
    "kernelspec": {
      "name": "python3",
      "display_name": "Python 3.8.3 64-bit",
      "metadata": {
        "interpreter": {
          "hash": "6e61ca267e818e5d9a430b77a02997073c0a797ef0ae9dc5b9fbd2a4d1cc9a76"
        }
      }
    },
    "language_info": {
      "name": "python",
      "version": "3.8.3"
    }
  },
  "cells": [
    {
      "cell_type": "code",
      "metadata": {
        "colab": {
          "base_uri": "https://localhost:8080/"
        },
        "id": "5-iCVx308906",
        "outputId": "7d55fa56-3316-4ab3-cd32-018fa903d01c"
      },
      "source": [
        "!pip install nltk\n",
        "!pip install torch\n",
        "!pip install fasttext"
      ],
      "execution_count": 1,
      "outputs": [
        {
          "output_type": "stream",
          "text": [
            "Requirement already satisfied: nltk in /usr/local/lib/python3.7/dist-packages (3.2.5)\n",
            "Requirement already satisfied: six in /usr/local/lib/python3.7/dist-packages (from nltk) (1.15.0)\n",
            "Requirement already satisfied: torch in /usr/local/lib/python3.7/dist-packages (1.8.0+cu101)\n",
            "Requirement already satisfied: typing-extensions in /usr/local/lib/python3.7/dist-packages (from torch) (3.7.4.3)\n",
            "Requirement already satisfied: numpy in /usr/local/lib/python3.7/dist-packages (from torch) (1.19.5)\n",
            "Collecting fasttext\n",
            "\u001b[?25l  Downloading https://files.pythonhosted.org/packages/f8/85/e2b368ab6d3528827b147fdb814f8189acc981a4bc2f99ab894650e05c40/fasttext-0.9.2.tar.gz (68kB)\n",
            "\u001b[K     |████████████████████████████████| 71kB 5.8MB/s \n",
            "\u001b[?25hRequirement already satisfied: pybind11>=2.2 in /usr/local/lib/python3.7/dist-packages (from fasttext) (2.6.2)\n",
            "Requirement already satisfied: setuptools>=0.7.0 in /usr/local/lib/python3.7/dist-packages (from fasttext) (54.1.2)\n",
            "Requirement already satisfied: numpy in /usr/local/lib/python3.7/dist-packages (from fasttext) (1.19.5)\n",
            "Building wheels for collected packages: fasttext\n",
            "  Building wheel for fasttext (setup.py) ... \u001b[?25l\u001b[?25hdone\n",
            "  Created wheel for fasttext: filename=fasttext-0.9.2-cp37-cp37m-linux_x86_64.whl size=3097886 sha256=6264d276a1997c126543d61eb2c084a7c610d9383264b0d001a809b0f808f774\n",
            "  Stored in directory: /root/.cache/pip/wheels/98/ba/7f/b154944a1cf5a8cee91c154b75231136cc3a3321ab0e30f592\n",
            "Successfully built fasttext\n",
            "Installing collected packages: fasttext\n",
            "Successfully installed fasttext-0.9.2\n"
          ],
          "name": "stdout"
        }
      ]
    },
    {
      "cell_type": "code",
      "metadata": {
        "colab": {
          "base_uri": "https://localhost:8080/"
        },
        "id": "iyw2yfE0HB4e",
        "outputId": "643942c9-393b-4b27-b09b-72a9068f99ff"
      },
      "source": [
        "!pip install prettytable"
      ],
      "execution_count": 2,
      "outputs": [
        {
          "output_type": "stream",
          "text": [
            "Requirement already satisfied: prettytable in /usr/local/lib/python3.7/dist-packages (2.1.0)\n",
            "Requirement already satisfied: importlib-metadata; python_version < \"3.8\" in /usr/local/lib/python3.7/dist-packages (from prettytable) (3.7.2)\n",
            "Requirement already satisfied: wcwidth in /usr/local/lib/python3.7/dist-packages (from prettytable) (0.2.5)\n",
            "Requirement already satisfied: zipp>=0.5 in /usr/local/lib/python3.7/dist-packages (from importlib-metadata; python_version < \"3.8\"->prettytable) (3.4.1)\n",
            "Requirement already satisfied: typing-extensions>=3.6.4; python_version < \"3.8\" in /usr/local/lib/python3.7/dist-packages (from importlib-metadata; python_version < \"3.8\"->prettytable) (3.7.4.3)\n"
          ],
          "name": "stdout"
        }
      ]
    },
    {
      "cell_type": "code",
      "metadata": {
        "id": "arhXbfrS9B5y"
      },
      "source": [
        "import torch\n",
        "import torch.nn as nn\n"
      ],
      "execution_count": 3,
      "outputs": []
    },
    {
      "cell_type": "code",
      "metadata": {
        "colab": {
          "base_uri": "https://localhost:8080/"
        },
        "id": "uAtjFYuZ9255",
        "outputId": "21bca754-b56d-4c05-84b5-d71c8c573cf5"
      },
      "source": [
        "import nltk\n",
        "nltk.download('punkt')\n",
        "  "
      ],
      "execution_count": 4,
      "outputs": [
        {
          "output_type": "stream",
          "text": [
            "[nltk_data] Downloading package punkt to /root/nltk_data...\n",
            "[nltk_data]   Unzipping tokenizers/punkt.zip.\n"
          ],
          "name": "stdout"
        },
        {
          "output_type": "execute_result",
          "data": {
            "text/plain": [
              "True"
            ]
          },
          "metadata": {
            "tags": []
          },
          "execution_count": 4
        }
      ]
    },
    {
      "cell_type": "code",
      "metadata": {
        "id": "17B1O7A89CcB",
        "colab": {
          "base_uri": "https://localhost:8080/"
        },
        "outputId": "83ffdcec-c5fc-4b15-9a5b-f860fe1b5790"
      },
      "source": [
        "''' \n",
        "Preprocess Data\n",
        "'''\n",
        "\n",
        "import re\n",
        "import nltk\n",
        "import string\n",
        "import fasttext\n",
        "from keras.preprocessing.sequence import pad_sequences\n",
        "from nltk import word_tokenize\n",
        "\n",
        "OTHER_TAG = \"other\"\n",
        "PUNCT_TAG = \"punct\"\n",
        "\n",
        "with open('./utils/tags.txt', encoding=\"utf-8\", errors='ignore') as f:\n",
        "    tags = set([str.rstrip(tag) for tag in f.readlines()])\n",
        "\n",
        "def remove_labels(text):\n",
        "    return re.sub(r'\\<\\/?[\\w-]*\\>\\s*', \"\", text).strip()\n",
        "\n",
        "def tag_token(token, tag):\n",
        "    if token in string.punctuation:\n",
        "        return (token, PUNCT_TAG)\n",
        "    return (token, tag)\n",
        "\n",
        "def get_tagged_tokens(groups):\n",
        "    tagged_tokens = []\n",
        "    for group in groups:\n",
        "        ref, tag = group[0], group[1]\n",
        "        if tag not in tags:\n",
        "            tag = OTHER_TAG\n",
        "        unlabelled = remove_labels(ref)\n",
        "        tokens = word_tokenize(unlabelled)\n",
        "        tagged_tokens.extend(list(map(lambda token: tag_token(token, tag), tokens)))\n",
        "    return tagged_tokens\n",
        "\n",
        "''' Attach tags to each token '''\n",
        "def attach_tags(dataset_path):\n",
        "    dataset = []\n",
        "    with open(dataset_path, encoding=\"utf-8\", errors='ignore') as f:\n",
        "        refs = f.readlines()\n",
        "        for ref in refs:\n",
        "            groups = re.findall(r'(\\<(.*)\\>.*\\<\\/\\2\\>)', ref) # format (<tag>...</tag>, tag)\n",
        "            tagged_tokens = get_tagged_tokens(groups)\n",
        "            dataset.append(tagged_tokens)\n",
        "    return dataset\n",
        "\n",
        "''' Removes labels and tokenizes '''\n",
        "def tokenize_dataset(dataset_path, sep=\" \"):\n",
        "    dataset = []\n",
        "    with open(dataset_path, encoding=\"utf-8\", errors='ignore') as f:\n",
        "        refs = f.readlines()\n",
        "        for ref in refs:\n",
        "            ref = remove_labels(ref) \n",
        "            tokenized = sep.join(word_tokenize(ref))\n",
        "            dataset.append(tokenized)\n",
        "    return dataset\n",
        "\n",
        "def train_word_embedding_model(dataset_path, embedding_dim, use_subwords=False):\n",
        "    embedding_dataset_path = './dataset/word_embedding_dataset'\n",
        "\n",
        "    with open(embedding_dataset_path, 'w', errors='ignore') as f:\n",
        "        # fasttext tokenizes by whitespaces\n",
        "        word_embedding_dataset = tokenize_dataset(dataset_path, sep=\" \") \n",
        "        f.write(\"\\n\".join(word_embedding_dataset))\n",
        "    if use_subwords:\n",
        "      model_path = './models/subword_embedding.bin'\n",
        "      model = fasttext.train_unsupervised(embedding_dataset_path, dim=embedding_dim)\n",
        "    else:\n",
        "      model_path = './models/word_embedding.bin'\n",
        "      model = fasttext.train_unsupervised(embedding_dataset_path, dim=embedding_dim, maxn=0)\n",
        "    model.save_model(model_path)\n",
        "    return model\n",
        "\n",
        "def map_to_index(keys, idx_start=0):\n",
        "    key_to_idx, keys_arr, idx = {}, [], idx_start\n",
        "    for key in keys:\n",
        "        key_to_idx[key] = idx\n",
        "        keys_arr.append(key)\n",
        "        idx += 1\n",
        "    return key_to_idx, keys_arr\n",
        "\n",
        "dataset_path = './dataset/standardized_dataset.txt'\n",
        "dataset = attach_tags(dataset_path)\n",
        "EMBEDDING_DIM = 100\n",
        "word_embedding_model = train_word_embedding_model(dataset_path, embedding_dim = EMBEDDING_DIM)\n",
        "\n",
        "all_tags = tags \n",
        "all_tags.add(OTHER_TAG)\n",
        "all_tags.add(PUNCT_TAG)\n",
        "tag_to_idx, tag_arr = map_to_index(all_tags)\n",
        "print(all_tags)\n",
        "\n",
        "''' Get inputs and outputs for model '''\n",
        "X, y = [], []\n",
        "for ref in dataset:\n",
        "    X_ref, y_ref = [], []\n",
        "    for token, tag in ref:\n",
        "        X_ref.append(word_embedding_model.get_word_vector(token))\n",
        "        y_ref.append(tag_to_idx[tag])\n",
        "    X.append(X_ref)\n",
        "    y.append(y_ref)\n",
        "\n",
        "max_length = max(map(lambda ref: len(ref), X))\n",
        "X = pad_sequences(X, maxlen=max_length, padding='post', truncating='pre', value=float(len(all_tags)), dtype='float32')\n",
        "y = pad_sequences(y, maxlen=max_length, padding='post', truncating='pre', value=float(len(all_tags)), dtype='float32')\n"
      ],
      "execution_count": 5,
      "outputs": [
        {
          "output_type": "stream",
          "text": [
            "{'note', 'author', 'institution', 'journal', 'editor', 'tech', 'other', 'date', 'publisher', 'volume', 'booktitle', 'punct', 'pages', 'location', 'title'}\n"
          ],
          "name": "stdout"
        }
      ]
    },
    {
      "cell_type": "code",
      "metadata": {
        "id": "N49G-Ws59HYu"
      },
      "source": [
        "from torch.nn.utils.rnn import pack_padded_sequence\n",
        "class LSTM(nn.Module):\n",
        "    def __init__(self, input_size, hidden_size, output_size, num_layers):\n",
        "        super(LSTM, self).__init__()\n",
        "        self.input_size = input_size\n",
        "        self.hidden_size = hidden_size\n",
        "        self.output_size = output_size\n",
        "        self.num_layers = num_layers\n",
        "    \n",
        "        self.lstm = nn.LSTM(\n",
        "            input_size = self.input_size,\n",
        "            hidden_size = self.hidden_size,\n",
        "            num_layers = self.num_layers,\n",
        "            batch_first = True\n",
        "        )\n",
        "\n",
        "    def forward(self, x):\n",
        "        # Initialise hidden state\n",
        "        h0 = torch.zeros(self.num_layers, x.size(0), self.hidden_size)\n",
        "\n",
        "        # Initialise internal state\n",
        "        c0 = torch.zeros(self.num_layers,x.size(0), self.hidden_size)\n",
        "\n",
        "        # Propagate input through LSTM\n",
        "        output, (hn, cn) = self.lstm(x, (h0, c0))\n",
        "\n",
        "        return output, (hn, cn)\n"
      ],
      "execution_count": 6,
      "outputs": []
    },
    {
      "cell_type": "code",
      "metadata": {
        "id": "40dkNSs69Igz"
      },
      "source": [
        "class Net(nn.Module):\n",
        "    def __init__(self, input_size, hidden_size, output_size, num_layers):\n",
        "        super().__init__()\n",
        "        self.hidden_size = hidden_size\n",
        "        \n",
        "        self.lstm = LSTM(input_size, hidden_size, output_size, num_layers)\n",
        "        self.fc = nn.Linear(hidden_size, output_size)\n",
        "\n",
        "    def forward(self, x):\n",
        "        output, (hn, cn) = self.lstm(x)\n",
        "        output = self.fc(output)\n",
        "\n",
        "        return output\n"
      ],
      "execution_count": 7,
      "outputs": []
    },
    {
      "cell_type": "code",
      "metadata": {
        "id": "u8RRoJQo9JpA"
      },
      "source": [
        "'''\n",
        "Hyperparameters\n",
        "'''\n",
        "num_epochs = 700\n",
        "learning_rate = 0.001\n",
        "\n",
        "input_size = EMBEDDING_DIM # Number of features\n",
        "hidden_size = 25 # Number of features in the hidden state\n",
        "num_layers = 1 # Number of stacked LSTM layers\n",
        "\n",
        "output_size = len(all_tags) # Number of output classes\n",
        "\n",
        "model = Net(input_size, hidden_size, output_size, num_layers)"
      ],
      "execution_count": 8,
      "outputs": []
    },
    {
      "cell_type": "code",
      "metadata": {
        "id": "5H6Lsfq19Ksk"
      },
      "source": [
        "'''\n",
        "Loss Function and Optimiser\n",
        "'''\n",
        "criterion = nn.CrossEntropyLoss(ignore_index=len(all_tags))\n",
        "optimizer = torch.optim.Adam(model.parameters(), lr = learning_rate)"
      ],
      "execution_count": 9,
      "outputs": []
    },
    {
      "cell_type": "code",
      "metadata": {
        "colab": {
          "base_uri": "https://localhost:8080/",
          "height": 522
        },
        "id": "kesJ8HiJ9LyR",
        "outputId": "87633165-47b3-4780-daae-b142e48d087e"
      },
      "source": [
        "import numpy as np\n",
        "from torch.nn.utils.rnn import pad_packed_sequence\n",
        "from sklearn.metrics import f1_score, precision_recall_fscore_support\n",
        "from sklearn.model_selection import train_test_split, KFold\n",
        "from prettytable import PrettyTable\n",
        "from torch.utils.data import TensorDataset, DataLoader, ConcatDataset\n",
        "\n",
        "X_train, X_test, y_train, y_test = train_test_split(X, y, test_size=0.2, random_state=42)\n",
        "X_train, X_test = torch.tensor(X_train), torch.tensor(X_test)\n",
        "y_train, y_test = torch.tensor(y_train), torch.tensor(y_test)\n",
        "\n",
        "def categorical_accuracy(outputs, y, pad_index):\n",
        "    max_outputs = outputs.argmax(dim = 1, keepdim=True)\n",
        "    non_padded_elements = (y != pad_index).nonzero()\n",
        "    correct = max_outputs[non_padded_elements].squeeze(1).eq(y[non_padded_elements])\n",
        "    return correct.sum() / torch.FloatTensor([y[non_padded_elements].shape[0]])\n",
        "\n",
        "def get_max_outputs(outputs):\n",
        "    max_outputs = outputs.argmax(dim = 1)\n",
        "    return max_outputs\n",
        "\n",
        "def print_report(report):\n",
        "    table = PrettyTable(float_format=\"1.5f\")\n",
        "    table.field_names = [\"Tag\", \"Precision\", \"Recall\", \"FBeta\"]\n",
        "    for i in range(len(tag_arr)):\n",
        "      tag, scores = [tag_arr[i]], list(map(lambda metric: metric[i], report))[:-1] # exclude support metric\n",
        "      tag.extend(scores)\n",
        "      table.add_row(tag)\n",
        "    print(table)\n",
        "\n",
        "def sum_report(report1, report2):\n",
        "    summed_report = []\n",
        "    for i in range(len(report1)):\n",
        "        label_report1, label_report2 = np.array(report1[i]), np.array(report2[i])\n",
        "        summed_report.append(np.add(label_report1, label_report2))\n",
        "    return np.array(summed_report)\n",
        "\n",
        "def average_report(report, num):\n",
        "    return list(map(lambda label_report: np.true_divide(label_report, num), report))\n",
        "\n",
        "def train(train_dataset, concat_dataset, k_folds=10):\n",
        "    kfold = KFold(n_splits=k_folds, shuffle=True)\n",
        "    summed_report = np.array([])\n",
        "    for fold, (train_ids, test_ids) in enumerate(kfold.split(concat_dataset)):\n",
        "        train_loader = DataLoader(train_dataset, batch_size=256)\n",
        "        for epoch in range(num_epochs):\n",
        "            for i, data in enumerate(train_loader, 0):\n",
        "                X_train, y_train = data\n",
        "                outputs = model.forward(X_train)\n",
        "\n",
        "                optimizer.zero_grad()\n",
        "\n",
        "                outputs = outputs.view(-1, outputs.shape[-1]) # [batch_size * seq_len, output_dim]\n",
        "                y_train = y_train.view(-1) # [batch_size * seq_len]\n",
        "              \n",
        "                # Get the loss function\n",
        "                loss = criterion(outputs, y_train.long())\n",
        "\n",
        "                # Calculate loss\n",
        "                loss.backward()\n",
        "\n",
        "                # Backpropagation\n",
        "                optimizer.step()\n",
        "\n",
        "                # Print loss at every 100th epoch\n",
        "                if epoch % 100 == 0:\n",
        "                    print(\"Epoch: %d, loss after minibatch %5d: %1.5f\" % (epoch, i+1, loss.item()))\n",
        "            \n",
        "        report = precision_recall_fscore_support(y_train.long(), \\\n",
        "                                                 get_max_outputs(outputs.detach()), \\\n",
        "                                                 average=None, \\\n",
        "                                                 zero_division=0, \\\n",
        "                                                 labels = [i for i in range(len(all_tags))])\n",
        "        if len(summed_report) == 0:\n",
        "            summed_report = np.array(report)\n",
        "        else:\n",
        "            summed_report = sum_report(summed_report, report)\n",
        "        print(\"Report after %d fold\" % (fold))\n",
        "        averaged_report = average_report(summed_report, fold + 1)\n",
        "        print_report(averaged_report)  \n",
        "\n",
        "def test(test_set):\n",
        "    test_loader = DataLoader(test_dataset, batch_size=256)\n",
        "    with torch.no_grad():\n",
        "        summed_report = []\n",
        "        for i, data in enumerate(test_loader, 0):\n",
        "              X_test, y_test = data\n",
        "              outputs = model.forward(X_test)\n",
        "\n",
        "              outputs = outputs.view(-1, outputs.shape[-1]) # [batch_size * seq_len, output_dim]\n",
        "              y_test = y_test.view(-1) # [batch_size * seq_len]\n",
        "            \n",
        "              # Get the loss function\n",
        "              loss = criterion(outputs, y_test.long())\n",
        "\n",
        "              report = precision_recall_fscore_support(y_test.long(), \\\n",
        "                                                       get_max_outputs(outputs.detach()), \\\n",
        "                                                       average=None, \\\n",
        "                                                       zero_division=0, \\\n",
        "                                                       labels = [i for i in range(len(all_tags))])\n",
        "              if len(summed_report) == 0:\n",
        "                  summed_report = np.array(report)\n",
        "              else:\n",
        "                  summed_report = sum_report(summed_report, report)\n",
        "        averaged_report = average_report(summed_report, i + 1)\n",
        "        print_report(averaged_report)  \n",
        "          \n",
        "\n",
        "training_set = TensorDataset(X_train, y_train)\n",
        "test_set = TensorDataset(X_test, y_test)\n",
        "concat_dataset = ConcatDataset([training_set, test_set])\n",
        "# run(training_set, test_set)\n",
        "train(training_set, concat_dataset)\n",
        "evaluate(test_set)"
      ],
      "execution_count": 12,
      "outputs": [
        {
          "output_type": "stream",
          "text": [
            "Epoch: 0, loss after minibatch     1: 2.76049\n",
            "Epoch: 0, loss after minibatch     2: 2.74658\n",
            "Epoch: 0, loss after minibatch     3: 2.73501\n",
            "Epoch: 0, loss after minibatch     4: 2.72767\n",
            "Epoch: 0, loss after minibatch     5: 2.71433\n",
            "Epoch: 0, loss after minibatch     6: 2.70305\n",
            "Epoch: 0, loss after minibatch     7: 2.69163\n",
            "Epoch: 0, loss after minibatch     8: 2.68375\n",
            "Epoch: 0, loss after minibatch     9: 2.67053\n",
            "Epoch: 0, loss after minibatch    10: 2.66301\n"
          ],
          "name": "stdout"
        },
        {
          "output_type": "error",
          "ename": "KeyboardInterrupt",
          "evalue": "ignored",
          "traceback": [
            "\u001b[0;31m---------------------------------------------------------------------------\u001b[0m",
            "\u001b[0;31mKeyboardInterrupt\u001b[0m                         Traceback (most recent call last)",
            "\u001b[0;32m<ipython-input-12-71d5a77ad1ad>\u001b[0m in \u001b[0;36m<module>\u001b[0;34m()\u001b[0m\n\u001b[1;32m    103\u001b[0m \u001b[0mconcat_dataset\u001b[0m \u001b[0;34m=\u001b[0m \u001b[0mConcatDataset\u001b[0m\u001b[0;34m(\u001b[0m\u001b[0;34m[\u001b[0m\u001b[0mtraining_set\u001b[0m\u001b[0;34m,\u001b[0m \u001b[0mtest_set\u001b[0m\u001b[0;34m]\u001b[0m\u001b[0;34m)\u001b[0m\u001b[0;34m\u001b[0m\u001b[0;34m\u001b[0m\u001b[0m\n\u001b[1;32m    104\u001b[0m \u001b[0;31m# run(training_set, test_set)\u001b[0m\u001b[0;34m\u001b[0m\u001b[0;34m\u001b[0m\u001b[0;34m\u001b[0m\u001b[0m\n\u001b[0;32m--> 105\u001b[0;31m \u001b[0mtrain\u001b[0m\u001b[0;34m(\u001b[0m\u001b[0mtraining_set\u001b[0m\u001b[0;34m,\u001b[0m \u001b[0mconcat_dataset\u001b[0m\u001b[0;34m)\u001b[0m\u001b[0;34m\u001b[0m\u001b[0;34m\u001b[0m\u001b[0m\n\u001b[0m\u001b[1;32m    106\u001b[0m \u001b[0mevaluate\u001b[0m\u001b[0;34m(\u001b[0m\u001b[0mtest_set\u001b[0m\u001b[0;34m)\u001b[0m\u001b[0;34m\u001b[0m\u001b[0;34m\u001b[0m\u001b[0m\n",
            "\u001b[0;32m<ipython-input-12-71d5a77ad1ad>\u001b[0m in \u001b[0;36mtrain\u001b[0;34m(train_dataset, concat_dataset, k_folds)\u001b[0m\n\u001b[1;32m     47\u001b[0m             \u001b[0;32mfor\u001b[0m \u001b[0mi\u001b[0m\u001b[0;34m,\u001b[0m \u001b[0mdata\u001b[0m \u001b[0;32min\u001b[0m \u001b[0menumerate\u001b[0m\u001b[0;34m(\u001b[0m\u001b[0mtrain_loader\u001b[0m\u001b[0;34m,\u001b[0m \u001b[0;36m0\u001b[0m\u001b[0;34m)\u001b[0m\u001b[0;34m:\u001b[0m\u001b[0;34m\u001b[0m\u001b[0;34m\u001b[0m\u001b[0m\n\u001b[1;32m     48\u001b[0m                 \u001b[0mX_train\u001b[0m\u001b[0;34m,\u001b[0m \u001b[0my_train\u001b[0m \u001b[0;34m=\u001b[0m \u001b[0mdata\u001b[0m\u001b[0;34m\u001b[0m\u001b[0;34m\u001b[0m\u001b[0m\n\u001b[0;32m---> 49\u001b[0;31m                 \u001b[0moutputs\u001b[0m \u001b[0;34m=\u001b[0m \u001b[0mmodel\u001b[0m\u001b[0;34m.\u001b[0m\u001b[0mforward\u001b[0m\u001b[0;34m(\u001b[0m\u001b[0mX_train\u001b[0m\u001b[0;34m)\u001b[0m\u001b[0;34m\u001b[0m\u001b[0;34m\u001b[0m\u001b[0m\n\u001b[0m\u001b[1;32m     50\u001b[0m \u001b[0;34m\u001b[0m\u001b[0m\n\u001b[1;32m     51\u001b[0m                 \u001b[0moptimizer\u001b[0m\u001b[0;34m.\u001b[0m\u001b[0mzero_grad\u001b[0m\u001b[0;34m(\u001b[0m\u001b[0;34m)\u001b[0m\u001b[0;34m\u001b[0m\u001b[0;34m\u001b[0m\u001b[0m\n",
            "\u001b[0;32m<ipython-input-7-2da7ca59a786>\u001b[0m in \u001b[0;36mforward\u001b[0;34m(self, x)\u001b[0m\n\u001b[1;32m      8\u001b[0m \u001b[0;34m\u001b[0m\u001b[0m\n\u001b[1;32m      9\u001b[0m     \u001b[0;32mdef\u001b[0m \u001b[0mforward\u001b[0m\u001b[0;34m(\u001b[0m\u001b[0mself\u001b[0m\u001b[0;34m,\u001b[0m \u001b[0mx\u001b[0m\u001b[0;34m)\u001b[0m\u001b[0;34m:\u001b[0m\u001b[0;34m\u001b[0m\u001b[0;34m\u001b[0m\u001b[0m\n\u001b[0;32m---> 10\u001b[0;31m         \u001b[0moutput\u001b[0m\u001b[0;34m,\u001b[0m \u001b[0;34m(\u001b[0m\u001b[0mhn\u001b[0m\u001b[0;34m,\u001b[0m \u001b[0mcn\u001b[0m\u001b[0;34m)\u001b[0m \u001b[0;34m=\u001b[0m \u001b[0mself\u001b[0m\u001b[0;34m.\u001b[0m\u001b[0mlstm\u001b[0m\u001b[0;34m(\u001b[0m\u001b[0mx\u001b[0m\u001b[0;34m)\u001b[0m\u001b[0;34m\u001b[0m\u001b[0;34m\u001b[0m\u001b[0m\n\u001b[0m\u001b[1;32m     11\u001b[0m         \u001b[0moutput\u001b[0m \u001b[0;34m=\u001b[0m \u001b[0mself\u001b[0m\u001b[0;34m.\u001b[0m\u001b[0mfc\u001b[0m\u001b[0;34m(\u001b[0m\u001b[0moutput\u001b[0m\u001b[0;34m)\u001b[0m\u001b[0;34m\u001b[0m\u001b[0;34m\u001b[0m\u001b[0m\n\u001b[1;32m     12\u001b[0m \u001b[0;34m\u001b[0m\u001b[0m\n",
            "\u001b[0;32m/usr/local/lib/python3.7/dist-packages/torch/nn/modules/module.py\u001b[0m in \u001b[0;36m_call_impl\u001b[0;34m(self, *input, **kwargs)\u001b[0m\n\u001b[1;32m    887\u001b[0m             \u001b[0mresult\u001b[0m \u001b[0;34m=\u001b[0m \u001b[0mself\u001b[0m\u001b[0;34m.\u001b[0m\u001b[0m_slow_forward\u001b[0m\u001b[0;34m(\u001b[0m\u001b[0;34m*\u001b[0m\u001b[0minput\u001b[0m\u001b[0;34m,\u001b[0m \u001b[0;34m**\u001b[0m\u001b[0mkwargs\u001b[0m\u001b[0;34m)\u001b[0m\u001b[0;34m\u001b[0m\u001b[0;34m\u001b[0m\u001b[0m\n\u001b[1;32m    888\u001b[0m         \u001b[0;32melse\u001b[0m\u001b[0;34m:\u001b[0m\u001b[0;34m\u001b[0m\u001b[0;34m\u001b[0m\u001b[0m\n\u001b[0;32m--> 889\u001b[0;31m             \u001b[0mresult\u001b[0m \u001b[0;34m=\u001b[0m \u001b[0mself\u001b[0m\u001b[0;34m.\u001b[0m\u001b[0mforward\u001b[0m\u001b[0;34m(\u001b[0m\u001b[0;34m*\u001b[0m\u001b[0minput\u001b[0m\u001b[0;34m,\u001b[0m \u001b[0;34m**\u001b[0m\u001b[0mkwargs\u001b[0m\u001b[0;34m)\u001b[0m\u001b[0;34m\u001b[0m\u001b[0;34m\u001b[0m\u001b[0m\n\u001b[0m\u001b[1;32m    890\u001b[0m         for hook in itertools.chain(\n\u001b[1;32m    891\u001b[0m                 \u001b[0m_global_forward_hooks\u001b[0m\u001b[0;34m.\u001b[0m\u001b[0mvalues\u001b[0m\u001b[0;34m(\u001b[0m\u001b[0;34m)\u001b[0m\u001b[0;34m,\u001b[0m\u001b[0;34m\u001b[0m\u001b[0;34m\u001b[0m\u001b[0m\n",
            "\u001b[0;32m<ipython-input-6-3aed2c52373e>\u001b[0m in \u001b[0;36mforward\u001b[0;34m(self, x)\u001b[0m\n\u001b[1;32m     23\u001b[0m \u001b[0;34m\u001b[0m\u001b[0m\n\u001b[1;32m     24\u001b[0m         \u001b[0;31m# Propagate input through LSTM\u001b[0m\u001b[0;34m\u001b[0m\u001b[0;34m\u001b[0m\u001b[0;34m\u001b[0m\u001b[0m\n\u001b[0;32m---> 25\u001b[0;31m         \u001b[0moutput\u001b[0m\u001b[0;34m,\u001b[0m \u001b[0;34m(\u001b[0m\u001b[0mhn\u001b[0m\u001b[0;34m,\u001b[0m \u001b[0mcn\u001b[0m\u001b[0;34m)\u001b[0m \u001b[0;34m=\u001b[0m \u001b[0mself\u001b[0m\u001b[0;34m.\u001b[0m\u001b[0mlstm\u001b[0m\u001b[0;34m(\u001b[0m\u001b[0mx\u001b[0m\u001b[0;34m,\u001b[0m \u001b[0;34m(\u001b[0m\u001b[0mh0\u001b[0m\u001b[0;34m,\u001b[0m \u001b[0mc0\u001b[0m\u001b[0;34m)\u001b[0m\u001b[0;34m)\u001b[0m\u001b[0;34m\u001b[0m\u001b[0;34m\u001b[0m\u001b[0m\n\u001b[0m\u001b[1;32m     26\u001b[0m \u001b[0;34m\u001b[0m\u001b[0m\n\u001b[1;32m     27\u001b[0m         \u001b[0;32mreturn\u001b[0m \u001b[0moutput\u001b[0m\u001b[0;34m,\u001b[0m \u001b[0;34m(\u001b[0m\u001b[0mhn\u001b[0m\u001b[0;34m,\u001b[0m \u001b[0mcn\u001b[0m\u001b[0;34m)\u001b[0m\u001b[0;34m\u001b[0m\u001b[0;34m\u001b[0m\u001b[0m\n",
            "\u001b[0;32m/usr/local/lib/python3.7/dist-packages/torch/nn/modules/module.py\u001b[0m in \u001b[0;36m_call_impl\u001b[0;34m(self, *input, **kwargs)\u001b[0m\n\u001b[1;32m    887\u001b[0m             \u001b[0mresult\u001b[0m \u001b[0;34m=\u001b[0m \u001b[0mself\u001b[0m\u001b[0;34m.\u001b[0m\u001b[0m_slow_forward\u001b[0m\u001b[0;34m(\u001b[0m\u001b[0;34m*\u001b[0m\u001b[0minput\u001b[0m\u001b[0;34m,\u001b[0m \u001b[0;34m**\u001b[0m\u001b[0mkwargs\u001b[0m\u001b[0;34m)\u001b[0m\u001b[0;34m\u001b[0m\u001b[0;34m\u001b[0m\u001b[0m\n\u001b[1;32m    888\u001b[0m         \u001b[0;32melse\u001b[0m\u001b[0;34m:\u001b[0m\u001b[0;34m\u001b[0m\u001b[0;34m\u001b[0m\u001b[0m\n\u001b[0;32m--> 889\u001b[0;31m             \u001b[0mresult\u001b[0m \u001b[0;34m=\u001b[0m \u001b[0mself\u001b[0m\u001b[0;34m.\u001b[0m\u001b[0mforward\u001b[0m\u001b[0;34m(\u001b[0m\u001b[0;34m*\u001b[0m\u001b[0minput\u001b[0m\u001b[0;34m,\u001b[0m \u001b[0;34m**\u001b[0m\u001b[0mkwargs\u001b[0m\u001b[0;34m)\u001b[0m\u001b[0;34m\u001b[0m\u001b[0;34m\u001b[0m\u001b[0m\n\u001b[0m\u001b[1;32m    890\u001b[0m         for hook in itertools.chain(\n\u001b[1;32m    891\u001b[0m                 \u001b[0m_global_forward_hooks\u001b[0m\u001b[0;34m.\u001b[0m\u001b[0mvalues\u001b[0m\u001b[0;34m(\u001b[0m\u001b[0;34m)\u001b[0m\u001b[0;34m,\u001b[0m\u001b[0;34m\u001b[0m\u001b[0;34m\u001b[0m\u001b[0m\n",
            "\u001b[0;32m/usr/local/lib/python3.7/dist-packages/torch/nn/modules/rnn.py\u001b[0m in \u001b[0;36mforward\u001b[0;34m(self, input, hx)\u001b[0m\n\u001b[1;32m    660\u001b[0m         \u001b[0;32mif\u001b[0m \u001b[0mbatch_sizes\u001b[0m \u001b[0;32mis\u001b[0m \u001b[0;32mNone\u001b[0m\u001b[0;34m:\u001b[0m\u001b[0;34m\u001b[0m\u001b[0;34m\u001b[0m\u001b[0m\n\u001b[1;32m    661\u001b[0m             result = _VF.lstm(input, hx, self._flat_weights, self.bias, self.num_layers,\n\u001b[0;32m--> 662\u001b[0;31m                               self.dropout, self.training, self.bidirectional, self.batch_first)\n\u001b[0m\u001b[1;32m    663\u001b[0m         \u001b[0;32melse\u001b[0m\u001b[0;34m:\u001b[0m\u001b[0;34m\u001b[0m\u001b[0;34m\u001b[0m\u001b[0m\n\u001b[1;32m    664\u001b[0m             result = _VF.lstm(input, batch_sizes, hx, self._flat_weights, self.bias,\n",
            "\u001b[0;31mKeyboardInterrupt\u001b[0m: "
          ]
        }
      ]
    }
  ]
}
