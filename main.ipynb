{
 "cells": [
  {
   "cell_type": "code",
   "execution_count": null,
   "metadata": {
    "colab": {
     "base_uri": "https://localhost:8080/"
    },
    "id": "5-iCVx308906",
    "outputId": "7d55fa56-3316-4ab3-cd32-018fa903d01c"
   },
   "outputs": [
    {
     "name": "stdout",
     "output_type": "stream",
     "text": [
      "Defaulting to user installation because normal site-packages is not writeable\n",
      "Requirement already satisfied: nltk in /home/melpulomas/.local/lib/python3.6/site-packages (3.5)\n",
      "Requirement already satisfied: click in /usr/lib/python3/dist-packages (from nltk) (6.7)\n",
      "Requirement already satisfied: tqdm in /home/melpulomas/.local/lib/python3.6/site-packages (from nltk) (4.56.0)\n",
      "Requirement already satisfied: joblib in /home/melpulomas/.local/lib/python3.6/site-packages (from nltk) (1.0.0)\n",
      "Requirement already satisfied: regex in /home/melpulomas/.local/lib/python3.6/site-packages (from nltk) (2020.11.13)\n",
      "Defaulting to user installation because normal site-packages is not writeable\n",
      "Requirement already satisfied: torch in /home/melpulomas/.local/lib/python3.6/site-packages (1.7.0)\n",
      "Requirement already satisfied: typing-extensions in /home/melpulomas/.local/lib/python3.6/site-packages (from torch) (3.7.4.3)\n",
      "Requirement already satisfied: future in /home/melpulomas/.local/lib/python3.6/site-packages (from torch) (0.18.2)\n",
      "Requirement already satisfied: dataclasses in /home/melpulomas/.local/lib/python3.6/site-packages (from torch) (0.7)\n",
      "Requirement already satisfied: numpy in /home/melpulomas/.local/lib/python3.6/site-packages (from torch) (1.19.3)\n",
      "Defaulting to user installation because normal site-packages is not writeable\n",
      "Requirement already satisfied: fasttext in /home/melpulomas/.local/lib/python3.6/site-packages (0.9.2)\n",
      "Requirement already satisfied: pybind11>=2.2 in /home/melpulomas/.local/lib/python3.6/site-packages (from fasttext) (2.6.2)\n",
      "Requirement already satisfied: setuptools>=0.7.0 in /home/melpulomas/.local/lib/python3.6/site-packages (from fasttext) (54.1.2)\n",
      "Requirement already satisfied: numpy in /home/melpulomas/.local/lib/python3.6/site-packages (from fasttext) (1.19.3)\n",
      "Defaulting to user installation because normal site-packages is not writeable\n",
      "Requirement already satisfied: sklearn-hierarchical-classification in /home/melpulomas/.local/lib/python3.6/site-packages (1.3.2)\n",
      "Requirement already satisfied: scipy>=0.19.1 in /home/melpulomas/.local/lib/python3.6/site-packages (from sklearn-hierarchical-classification) (1.5.4)\n",
      "Requirement already satisfied: networkx>=2.4 in /home/melpulomas/.local/lib/python3.6/site-packages (from sklearn-hierarchical-classification) (2.5)\n",
      "Requirement already satisfied: numpy>=1.13.1 in /home/melpulomas/.local/lib/python3.6/site-packages (from sklearn-hierarchical-classification) (1.19.3)\n",
      "Requirement already satisfied: scikit-learn>=0.19.0 in /home/melpulomas/.local/lib/python3.6/site-packages (from sklearn-hierarchical-classification) (0.24.1)\n",
      "Requirement already satisfied: decorator>=4.3.0 in /home/melpulomas/.local/lib/python3.6/site-packages (from networkx>=2.4->sklearn-hierarchical-classification) (4.4.2)\n",
      "Requirement already satisfied: threadpoolctl>=2.0.0 in /home/melpulomas/.local/lib/python3.6/site-packages (from scikit-learn>=0.19.0->sklearn-hierarchical-classification) (2.1.0)\n",
      "Requirement already satisfied: joblib>=0.11 in /home/melpulomas/.local/lib/python3.6/site-packages (from scikit-learn>=0.19.0->sklearn-hierarchical-classification) (1.0.0)\n"
     ]
    }
   ],
   "source": [
    "!pip install nltk\n",
    "!pip install torch\n",
    "!pip install fasttext\n",
    "!pip install transformers\n",
    "!pip install sklearn-hierarchical-classification\n",
   ]
  },
  {
   "cell_type": "code",
   "execution_count": null,
   "metadata": {
    "colab": {
     "base_uri": "https://localhost:8080/"
    },
    "id": "iyw2yfE0HB4e",
    "outputId": "643942c9-393b-4b27-b09b-72a9068f99ff"
   },
   "outputs": [],
   "source": [
    "!pip install prettytable\n",
    "!pip install keras\n",
    "!pip install tensorflow==\"2.2.0\""
   ]
  },
  {
   "cell_type": "code",
   "execution_count": 2,
   "metadata": {
    "colab": {
     "base_uri": "https://localhost:8080/"
    },
    "id": "iyw2yfE0HB4e",
    "outputId": "643942c9-393b-4b27-b09b-72a9068f99ff"
   },
   "outputs": [
    {
     "name": "stdout",
     "output_type": "stream",
     "text": [
      "Requirement already satisfied: prettytable in /usr/local/lib/python3.7/dist-packages (2.1.0)\n",
      "Requirement already satisfied: importlib-metadata; python_version < \"3.8\" in /usr/local/lib/python3.7/dist-packages (from prettytable) (3.7.2)\n",
      "Requirement already satisfied: wcwidth in /usr/local/lib/python3.7/dist-packages (from prettytable) (0.2.5)\n",
      "Requirement already satisfied: zipp>=0.5 in /usr/local/lib/python3.7/dist-packages (from importlib-metadata; python_version < \"3.8\"->prettytable) (3.4.1)\n",
      "Requirement already satisfied: typing-extensions>=3.6.4; python_version < \"3.8\" in /usr/local/lib/python3.7/dist-packages (from importlib-metadata; python_version < \"3.8\"->prettytable) (3.7.4.3)\n"
     ]
    }
   ],
   "source": [
    "!pip install prettytable"
   ]
  },
  {
   "cell_type": "code",
   "execution_count": null,
   "metadata": {
    "id": "arhXbfrS9B5y"
   },
   "outputs": [],
   "source": [
    "import torch\n",
    "import torch.nn as nn\n"
   ]
  },
  {
   "cell_type": "code",
   "execution_count": null,
   "metadata": {
    "colab": {
     "base_uri": "https://localhost:8080/"
    },
    "id": "uAtjFYuZ9255",
    "outputId": "21bca754-b56d-4c05-84b5-d71c8c573cf5"
   },
   "outputs": [
    {
     "name": "stderr",
     "output_type": "stream",
     "text": [
      "[nltk_data] Downloading package punkt to /home/melpulomas/nltk_data...\n",
      "[nltk_data]   Package punkt is already up-to-date!\n"
     ]
    },
    {
     "name": "stderr",
     "output_type": "stream",
     "text": [
     ]
    },
    {
     "data": {
      "text/plain": [
       "True"
      ]
     },
     "execution_count": 4,
     "metadata": {},
     "output_type": "execute_result"
    },
    {
     "name": "stderr",
     "output_type": "stream",
     "text": [
     ]
    }
   ],
   "source": [
    "import nltk\n",
    "nltk.download('punkt')\n",
    "  "
   ]
  },
  {
   "cell_type": "code",
   "execution_count": null,
   "metadata": {
    "colab": {
     "base_uri": "https://localhost:8080/"
    },
    "id": "17B1O7A89CcB",
    "outputId": "83ffdcec-c5fc-4b15-9a5b-f860fe1b5790"
   },
   "outputs": [
    {
     "name": "stdout",
     "output_type": "stream",
     "text": [
      "{'pages', 'volume', 'punct', 'note', 'title', 'date', 'editor', 'location', 'journal', 'author', 'tech', 'other', 'institution', 'booktitle', 'publisher'}\n"
     ]
    }
   ],
   "source": [
    "''' \n",
    "Preprocess Data\n",
    "'''\n",
    "\n",
    "import re\n",
    "import nltk\n",
    "import string\n",
    "import fasttext\n",
    "from tensorflow.keras.preprocessing.sequence import pad_sequences\n",
    "from nltk import word_tokenize\n",
    "\n",
    "OTHER_TAG = \"other\"\n",
    "PUNCT_TAG = \"punct\"\n",
    "\n",
    "with open('./utils/tags.txt', encoding=\"utf-8\", errors='ignore') as f:\n",
    "    tags = set([str.rstrip(tag) for tag in f.readlines()])\n",
    "\n",
    "with open('./utils/tags_hierarchy.txt', encoding=\"utf-8\", errors='ignore') as f:\n",
    "    hierarchy_tags = set([str.rstrip(tag) for tag in f.readlines()])\n",
    "\n",
    "def remove_labels(text):\n",
    "    return re.sub(r'\\<\\/?[\\w-]*\\>\\s*', \"\", text).strip()\n",
    "\n",
    "def tag_token(token, tag):\n",
    "    if token in string.punctuation:\n",
    "        return (token, PUNCT_TAG)\n",
    "    return (token, tag)\n",
    "\n",
    "def get_tagged_tokens(groups):\n",
    "    tagged_tokens = []\n",
    "    for group in groups:\n",
    "        ref, tag = group[0], group[1]\n",
    "        if tag not in tags:\n",
    "            tag = OTHER_TAG\n",
    "        unlabelled = remove_labels(ref)\n",
    "        tokens = word_tokenize(unlabelled)\n",
    "        tagged_tokens.extend(list(map(lambda token: tag_token(token, tag), tokens)))\n",
    "    return tagged_tokens\n",
    "\n",
    "''' Attach tags to each token '''\n",
    "def attach_tags(dataset_path):\n",
    "    dataset = []\n",
    "    with open(dataset_path, encoding=\"utf-8\", errors='ignore') as f:\n",
    "        refs = f.readlines()\n",
    "        for ref in refs:\n",
    "            groups = re.findall(r'(\\<(.*)\\>.*\\<\\/\\2\\>)', ref) # format (<tag>...</tag>, tag)\n",
    "            tagged_tokens = get_tagged_tokens(groups)\n",
    "            dataset.append(tagged_tokens)\n",
    "    return dataset\n",
    "\n",
    "''' Removes labels and tokenizes '''\n",
    "def tokenize_dataset(dataset_path, sep=\" \"):\n",
    "    dataset = []\n",
    "    with open(dataset_path, encoding=\"utf-8\", errors='ignore') as f:\n",
    "        refs = f.readlines()\n",
    "        for ref in refs:\n",
    "            ref = remove_labels(ref) \n",
    "            tokenized = sep.join(word_tokenize(ref))\n",
    "            dataset.append(tokenized)\n",
    "    return dataset\n",
    "\n",
    "def train_word_embedding_model(dataset_path, embedding_dim, use_subwords=False, use_hierarchy=False):\n",
    "    embedding_dataset_path = './dataset/word_embedding_dataset.txt'\n",
    "    hierarchy_dataset_path = './dataset/umass-citation/training'\n",
    "\n",
    "    with open(embedding_dataset_path, 'w', errors='ignore') as f:\n",
    "        # fasttext tokenizes by whitespaces\n",
    "        word_embedding_dataset = tokenize_dataset(dataset_path, sep=\" \") \n",
    "        f.write(\"\\n\".join(word_embedding_dataset))\n",
    "    if use_subwords:\n",
    "      model_path = './models/subword_embedding.bin'\n",
    "      model = fasttext.train_unsupervised(embedding_dataset_path, dim=embedding_dim)\n",
    "    elif use_hierarchy:\n",
    "        model_path = './models/hierarchy_word_embedding.bin'\n",
    "        model = fasttext.train_unsupervised(embedding_dataset_path, dim=embedding_dim, maxn=0)\n",
    "    else:\n",
    "      model_path = './models/word_embedding.bin'\n",
    "      model = fasttext.train_unsupervised(embedding_dataset_path, dim=embedding_dim, maxn=0)\n",
    "    model.save_model(model_path)\n",
    "    return model\n",
    "\n",
    "def map_to_index(keys, idx_start=0):\n",
    "    key_to_idx, keys_arr, idx = {}, [], idx_start\n",
    "    for key in keys:\n",
    "        key_to_idx[key] = idx\n",
    "        keys_arr.append(key)\n",
    "        idx += 1\n",
    "    return key_to_idx, keys_arr\n",
    "\n",
    "dataset_path = './dataset/standardized_dataset.txt'\n",
    "dataset = attach_tags(dataset_path)\n",
    "EMBEDDING_DIM = 100\n",
    "word_embedding_model = train_word_embedding_model(dataset_path, embedding_dim = EMBEDDING_DIM)\n",
    "\n",
    "all_tags = tags \n",
    "all_tags.add(OTHER_TAG)\n",
    "all_tags.add(PUNCT_TAG)\n",
    "tag_to_idx, tag_arr = map_to_index(all_tags)\n",
    "print(all_tags)\n",
    "\n",
    "''' Get inputs and outputs for model '''\n",
    "X, y = [], []\n",
    "for ref in dataset:\n",
    "    X_ref, y_ref = [], []\n",
    "    for token, tag in ref:\n",
    "        X_ref.append(word_embedding_model.get_word_vector(token))\n",
    "        y_ref.append(tag_to_idx[tag])\n",
    "    X.append(X_ref)\n",
    "    y.append(y_ref)\n",
    "\n",
    "max_length = max(map(lambda ref: len(ref), X))\n",
    "X = pad_sequences(X, maxlen=max_length, padding='post', truncating='pre', value=float(len(all_tags)), dtype='float32')\n",
    "y = pad_sequences(y, maxlen=max_length, padding='post', truncating='pre', value=float(len(all_tags)), dtype='float32')\n",
    "\n",
    "##create another model trained with the hierarchy dataset\n",
    "dataset_hierarch_path = \"./dataset/hierarchy_dataset.txt\"\n",
    "dataset_hierarch = attach_tags(dataset_hierarch_path)\n",
    "word_embedding_model = train_word_embedding_model(dataset_path, embedding_dim = EMBEDDING_DIM, use_subwords=False, use_hierarchy=True)\n",
    "all_tags = hierarchy_tags \n",
    "all_tags.add(OTHER_TAG)\n",
    "all_tags.add(PUNCT_TAG)\n",
    "tag_to_idx, tag_arr = map_to_index(all_tags)\n",
    "\n",
    "''' Get inputs and outputs for model '''\n",
    "X_hierarchy, y_hierarchy = [], []\n",
    "for ref in dataset:\n",
    "    X_ref, y_ref = [], []\n",
    "    for token, tag in ref:\n",
    "        X_ref.append(word_embedding_model.get_word_vector(token))\n",
    "        y_ref.append(tag_to_idx[tag])\n",
    "    X_hierarchy.append(X_ref)\n",
    "    y_hierarchy.append(y_ref)\n",
    "\n",
    "max_length = max(map(lambda ref: len(ref), X_hierarchy))\n",
    "X_hierarchy = pad_sequences(X_hierarchy, maxlen=max_length, padding='post', truncating='pre', value=float(len(all_tags)), dtype='float32')\n",
    "y_hierarchy = pad_sequences(y_hierarchy, maxlen=max_length, padding='post', truncating='pre', value=float(len(all_tags)), dtype='float32')\n",
   ]
  },
  {
   "cell_type": "code",
   "execution_count": null,
   "metadata": {},
   "outputs": [],
   "source": [
    "SCIBERT_EMBEDDING_DIM = 768\n",
    "from transformers import BertTokenizer, BertModel\n",
    "\n",
    "model_version = 'allenai/scibert_scivocab_cased'\n",
    "do_lower_case = False\n",
    "tokenizer = BertTokenizer.from_pretrained(model_version, do_lower_case=do_lower_case)\n",
    "\n",
    "def get_tokens_and_segments_tensors(text):\n",
    "    tokenized_text = tokenizer.tokenize(text)\n",
    "    indexed_tokens = tokenizer.convert_tokens_to_ids(tokenized_text)\n",
    "    segment_ids = [1] * len(indexed_tokens)\n",
    "    tokens_tensor = torch.tensor([indexed_tokens])\n",
    "    segments_tensor = torch.tensor([segment_ids])\n",
    "    return tokens_tensor, segments_tensor\n",
    "\n",
    "def average(embeddings):\n",
    "    if len(embeddings.size()) == 1: # if only one embedding, just return\n",
    "        return embeddings\n",
    "    averaged_embedding = np.array([0 for _ in range(len(embeddings[0]))])\n",
    "    for embedding in embeddings:\n",
    "        averaged_embedding = np.add(averaged_embedding, embedding)\n",
    "    return np.true_divide(averaged_embedding, len(embeddings))\n",
    "\n",
    "from transformers import BertForPreTraining, BertConfig \n",
    "\n",
    "config = BertConfig.from_json_file('./models/bert/fine_tuned_bert/config.json') # load fine tuned model\n",
    "bert_model = BertModel(config)\n",
    "bert_model.eval()\n",
    "\n",
    "def get_scibert_vector(text):\n",
    "    tokens_tensor, segments_tensor = get_tokens_and_segments_tensors(text)\n",
    "    outputs = bert_model(tokens_tensor, segments_tensor)\n",
    "    hidden_states = outputs.last_hidden_state\n",
    "    token_embeddings = torch.squeeze(hidden_states[-1], dim=0)\n",
    "    averaged_embeddings = average(token_embeddings.detach())\n",
    "    return averaged_embeddings.tolist()\n"
   ]
  },
  {
   "cell_type": "code",
   "execution_count": null,
   "metadata": {},
   "outputs": [],
   "source": [
    "''' Get inputs and outputs for model '''\n",
    "X, y = [], []\n",
    "for ref in dataset:\n",
    "    X_ref, y_ref = [], []\n",
    "    for token, tag in ref:\n",
    "        X_ref.append(get_scibert_vector(token))\n",
    "        # X_ref.append(word_embedding_model.get_word_vector(token))\n",
    "        y_ref.append(tag_to_idx[tag])\n",
    "    X.append(X_ref)\n",
    "    y.append(y_ref)\n",
    "\n",
    "max_length = max(map(lambda ref: len(ref), X))\n",
    "X = pad_sequences(X, maxlen=max_length, padding='post', truncating='pre', value=float(len(all_tags)), dtype='float32')\n",
    "y = pad_sequences(y, maxlen=max_length, padding='post', truncating='pre', value=float(len(all_tags)), dtype='float32')"
   ]
  },
  {
   "cell_type": "code",
   "execution_count": null,
   "metadata": {
    "id": "N49G-Ws59HYu"
   },
   "outputs": [],
   "source": [
    "from torch.nn.utils.rnn import pack_padded_sequence\n",
    "class LSTM(nn.Module):\n",
    "    def __init__(self, input_size, hidden_size, output_size, num_layers):\n",
    "        super(LSTM, self).__init__()\n",
    "        self.input_size = input_size\n",
    "        self.hidden_size = hidden_size\n",
    "        self.output_size = output_size\n",
    "        self.num_layers = num_layers\n",
    "    \n",
    "        self.lstm = nn.LSTM(\n",
    "            input_size = self.input_size,\n",
    "            hidden_size = self.hidden_size,\n",
    "            num_layers = self.num_layers,\n",
    "            batch_first = True\n",
    "        )\n",
    "\n",
    "    def forward(self, x):\n",
    "        # Initialise hidden state\n",
    "        h0 = torch.zeros(self.num_layers, x.size(0), self.hidden_size)\n",
    "\n",
    "        # Initialise internal state\n",
    "        c0 = torch.zeros(self.num_layers,x.size(0), self.hidden_size)\n",
    "\n",
    "        # Propagate input through LSTM\n",
    "        output, (hn, cn) = self.lstm(x, (h0, c0))\n",
    "\n",
    "        return output, (hn, cn)\n"
   ]
  },
  {
   "cell_type": "code",
   "execution_count": null,
   "metadata": {
    "id": "40dkNSs69Igz"
   },
   "outputs": [],
   "source": [
    "class Net(nn.Module):\n",
    "    def __init__(self, input_size, hidden_size, output_size, num_layers):\n",
    "        super().__init__()\n",
    "        self.hidden_size = hidden_size\n",
    "        \n",
    "        self.lstm = LSTM(input_size, hidden_size, output_size, num_layers)\n",
    "        self.fc = nn.Linear(hidden_size, output_size)\n",
    "\n",
    "    def forward(self, x):\n",
    "        output, (hn, cn) = self.lstm(x)\n",
    "        output = self.fc(output)\n",
    "\n",
    "        return output\n"
   ]
  },
  {
   "cell_type": "code",
   "execution_count": null,
   "metadata": {
    "id": "u8RRoJQo9JpA"
   },
   "outputs": [],
   "source": [
    "'''\n",
    "Hyperparameters\n",
    "'''\n",
    "num_epochs = 700\n",
    "learning_rate = 0.001\n",
    "\n",
    "input_size = EMBEDDING_DIM # Number of features\n",
    "hidden_size = 25 # Number of features in the hidden state\n",
    "num_layers = 1 # Number of stacked LSTM layers\n",
    "\n",
    "output_size = len(all_tags) # Number of output classes\n",
    "\n",
    "model = Net(input_size, hidden_size, output_size, num_layers)"
   ]
  },
  {
   "cell_type": "code",
   "execution_count": null,
   "metadata": {
    "id": "5H6Lsfq19Ksk"
   },
   "outputs": [],
   "source": [
    "'''\n",
    "Loss Function and Optimiser\n",
    "'''\n",
    "criterion = nn.CrossEntropyLoss(ignore_index=len(all_tags))\n",
    "optimizer = torch.optim.Adam(model.parameters(), lr = learning_rate)"
   ]
  },
  {
   "cell_type": "code",
   "execution_count": null,
   "metadata": {
    "colab": {
     "base_uri": "https://localhost:8080/",
     "height": 522
    },
    "id": "kesJ8HiJ9LyR",
    "outputId": "87633165-47b3-4780-daae-b142e48d087e"
   },
   "outputs": [
    {
     "name": "stderr",
     "output_type": "stream",
     "text": [
      "IOPub data rate exceeded.\n",
      "The notebook server will temporarily stop sending output\n",
      "to the client in order to avoid crashing it.\n",
      "To change this limit, set the config variable\n",
      "`--NotebookApp.iopub_data_rate_limit`.\n",
      "\n",
      "Current values:\n",
      "NotebookApp.iopub_data_rate_limit=1000000.0 (bytes/sec)\n",
      "NotebookApp.rate_limit_window=3.0 (secs)\n",
      "\n"
     ]
    },
    {
     "ename": "ValueError",
     "evalue": "expected sequence of length 14 at dim 1 (got 34)",
     "output_type": "error",
     "traceback": [
      "\u001b[0;31m---------------------------------------------------------------------------\u001b[0m",
      "\u001b[0;31mValueError\u001b[0m                                Traceback (most recent call last)",
      "\u001b[0;32m<ipython-input-17-83ef6fdef5e7>\u001b[0m in \u001b[0;36m<module>\u001b[0;34m\u001b[0m\n\u001b[1;32m     16\u001b[0m \u001b[0mX_train_hierarchy\u001b[0m\u001b[0;34m,\u001b[0m \u001b[0mX_test\u001b[0m\u001b[0;34m,\u001b[0m \u001b[0my_train_hierarchy\u001b[0m\u001b[0;34m,\u001b[0m \u001b[0my_test_hierarchy\u001b[0m \u001b[0;34m=\u001b[0m \u001b[0mtrain_test_split\u001b[0m\u001b[0;34m(\u001b[0m\u001b[0mX_hierarchy\u001b[0m\u001b[0;34m,\u001b[0m \u001b[0my_hierarchy\u001b[0m\u001b[0;34m,\u001b[0m \u001b[0mtest_size\u001b[0m \u001b[0;34m=\u001b[0m \u001b[0;36m0.2\u001b[0m\u001b[0;34m,\u001b[0m \u001b[0mrandom_state\u001b[0m\u001b[0;34m=\u001b[0m\u001b[0;36m42\u001b[0m\u001b[0;34m)\u001b[0m\u001b[0;34m\u001b[0m\u001b[0;34m\u001b[0m\u001b[0m\n\u001b[1;32m     17\u001b[0m \u001b[0mprint\u001b[0m\u001b[0;34m(\u001b[0m\u001b[0mX_train_hierarchy\u001b[0m\u001b[0;34m)\u001b[0m\u001b[0;34m\u001b[0m\u001b[0;34m\u001b[0m\u001b[0m\n\u001b[0;32m---> 18\u001b[0;31m \u001b[0mX_train_hierarchy\u001b[0m\u001b[0;34m,\u001b[0m \u001b[0mX_test_hierarchy\u001b[0m \u001b[0;34m=\u001b[0m \u001b[0mtorch\u001b[0m\u001b[0;34m.\u001b[0m\u001b[0mtensor\u001b[0m\u001b[0;34m(\u001b[0m\u001b[0mX_train_hierarchy\u001b[0m\u001b[0;34m)\u001b[0m\u001b[0;34m,\u001b[0m \u001b[0mtorch\u001b[0m\u001b[0;34m.\u001b[0m\u001b[0mtensor\u001b[0m\u001b[0;34m(\u001b[0m\u001b[0mX_test_hierarchy\u001b[0m\u001b[0;34m)\u001b[0m\u001b[0;34m\u001b[0m\u001b[0;34m\u001b[0m\u001b[0m\n\u001b[0m\u001b[1;32m     19\u001b[0m \u001b[0my_train_hierarchy\u001b[0m\u001b[0;34m,\u001b[0m \u001b[0my_test_hierarchy\u001b[0m \u001b[0;34m=\u001b[0m \u001b[0mtorch\u001b[0m\u001b[0;34m.\u001b[0m\u001b[0mtensor\u001b[0m\u001b[0;34m(\u001b[0m\u001b[0my_train_hierarchy\u001b[0m\u001b[0;34m)\u001b[0m\u001b[0;34m,\u001b[0m \u001b[0mtorch\u001b[0m\u001b[0;34m.\u001b[0m\u001b[0mtensor\u001b[0m\u001b[0;34m(\u001b[0m\u001b[0my_test_hierarchy\u001b[0m\u001b[0;34m)\u001b[0m\u001b[0;34m\u001b[0m\u001b[0;34m\u001b[0m\u001b[0m\n\u001b[1;32m     20\u001b[0m \u001b[0;34m\u001b[0m\u001b[0m\n",
      "\u001b[0;31mValueError\u001b[0m: expected sequence of length 14 at dim 1 (got 34)"
     ]
    }
   ],
   "source": [
    "import numpy as np\n",
    "from torch.nn.utils.rnn import pad_packed_sequence\n",
    "from sklearn_hierarchical_classification.classifier import HierarchicalClassifier\n",
    "from sklearn_hierarchical_classification.constants import ROOT\n",
    "from sklearn_hierarchical_classification.metrics import h_fbeta_score, multi_labeled\n",
    "from sklearn.metrics import f1_score, precision_recall_fscore_support\n",
    "from sklearn.model_selection import train_test_split, KFold\n",
    "from prettytable import PrettyTable\n",
    "from torch.utils.data import TensorDataset, DataLoader, ConcatDataset\n",
    "\n",
    "\n",
    "X_train, X_test, y_train, y_test = train_test_split(X, y, test_size=0.2, random_state=42)\n",
    "X_train, X_test = torch.tensor(X_train), torch.tensor(X_test)\n",
    "y_train, y_test = torch.tensor(y_train), torch.tensor(y_test)\n",
    "\n",
    "X_train_hierarchy, X_test, y_train_hierarchy, y_test_hierarchy = train_test_split(X_hierarchy, y_hierarchy, test_size = 0.2, random_state=42)\n",
    "##X_train_hierarchy, X_test_hierarchy = torch.tensor(X_train_hierarchy), torch.tensor(X_test_hierarchy)\n",
    "##y_train_hierarchy, y_test_hierarchy = torch.tensor(y_train_hierarchy), torch.tensor(y_test_hierarchy)\n",
    "\n",
    "def categorical_accuracy(outputs, y, pad_index):\n",
    "    max_outputs = outputs.argmax(dim = 1, keepdim=True)\n",
    "    non_padded_elements = (y != pad_index).nonzero()\n",
    "    correct = max_outputs[non_padded_elements].squeeze(1).eq(y[non_padded_elements])\n",
    "    return correct.sum() / torch.FloatTensor([y[non_padded_elements].shape[0]])\n",
    "\n",
    "def get_max_outputs(outputs):\n",
    "    max_outputs = outputs.argmax(dim = 1)\n",
    "    return max_outputs\n",
    "\n",
    "def print_report(report):\n",
    "    table = PrettyTable(float_format=\"1.5f\")\n",
    "    table.field_names = [\"Tag\", \"Precision\", \"Recall\", \"FBeta\"]\n",
    "    for i in range(len(tag_arr)):\n",
    "      tag, scores = [tag_arr[i]], list(map(lambda metric: metric[i], report))[:-1] # exclude support metric\n",
    "      tag.extend(scores)\n",
    "      table.add_row(tag)\n",
    "    print(table)\n",
    "\n",
    "def sum_report(report1, report2):\n",
    "    summed_report = []\n",
    "    for i in range(len(report1)):\n",
    "        label_report1, label_report2 = np.array(report1[i]), np.array(report2[i])\n",
    "        summed_report.append(np.add(label_report1, label_report2))\n",
    "    return np.array(summed_report)\n",
    "\n",
    "def average_report(report, num):\n",
    "    return list(map(lambda label_report: np.true_divide(label_report, num), report))\n",
    "\n",
    "def train(train_dataset, concat_dataset, k_folds=10):\n",
    "    kfold = KFold(n_splits=k_folds, shuffle=True)\n",
    "    summed_report = np.array([])\n",
    "    for fold, (train_ids, test_ids) in enumerate(kfold.split(concat_dataset)):\n",
    "        train_loader = DataLoader(train_dataset, batch_size=256)\n",
    "        for epoch in range(num_epochs):\n",
    "            for i, data in enumerate(train_loader, 0):\n",
    "                X_train, y_train = data\n",
    "                outputs = model.forward(X_train)\n",
    "\n",
    "                optimizer.zero_grad()\n",
    "\n",
    "                outputs = outputs.view(-1, outputs.shape[-1]) # [batch_size * seq_len, output_dim]\n",
    "                y_train = y_train.view(-1) # [batch_size * seq_len]\n",
    "              \n",
    "                # Get the loss function\n",
    "                loss = criterion(outputs, y_train.long())\n",
    "\n",
    "                # Calculate loss\n",
    "                loss.backward()\n",
    "\n",
    "                # Backpropagation\n",
    "                optimizer.step()\n",
    "\n",
    "                # Print loss at every 100th epoch\n",
    "                if epoch % 100 == 0:\n",
    "                    print(\"Epoch: %d, loss after minibatch %5d: %1.5f\" % (epoch, i+1, loss.item()))\n",
    "            \n",
    "        report = precision_recall_fscore_support(y_train.long(), \\\n",
    "                                                 get_max_outputs(outputs.detach()), \\\n",
    "                                                 average=None, \\\n",
    "                                                 zero_division=0, \\\n",
    "                                                 labels = [i for i in range(len(all_tags))])\n",
    "        if len(summed_report) == 0:\n",
    "            summed_report = np.array(report)\n",
    "        else:\n",
    "            summed_report = sum_report(summed_report, report)\n",
    "        print(\"Report after %d fold\" % (fold))\n",
    "        averaged_report = average_report(summed_report, fold + 1)\n",
    "        print_report(averaged_report)  \n",
    "\n",
    "def test(test_set):\n",
    "    test_loader = DataLoader(test_set, batch_size=256)\n",
    "    with torch.no_grad():\n",
    "        summed_report = []\n",
    "        for i, data in enumerate(test_loader, 0):\n",
    "              X_test, y_test = data\n",
    "              outputs = model.forward(X_test)\n",
    "\n",
    "              outputs = outputs.view(-1, outputs.shape[-1]) # [batch_size * seq_len, output_dim]\n",
    "              y_test = y_test.view(-1) # [batch_size * seq_len]\n",
    "            \n",
    "              # Get the loss function\n",
    "              loss = criterion(outputs, y_test.long())\n",
    "\n",
    "              report = precision_recall_fscore_support(y_test.long(), \\\n",
    "                                                       get_max_outputs(outputs.detach()), \\\n",
    "                                                       average=None, \\\n",
    "                                                       zero_division=0, \\\n",
    "                                                       labels = [i for i in range(len(all_tags))])\n",
    "              if len(summed_report) == 0:\n",
    "                  summed_report = np.array(report)\n",
    "              else:\n",
    "                  summed_report = sum_report(summed_report, report)\n",
    "        averaged_report = average_report(summed_report, i + 1)\n",
    "        print_report(averaged_report)  \n",
    "          \n",
    "\n",
    "training_set = TensorDataset(X_train, y_train)\n",
    "test_set = TensorDataset(X_test, y_test)\n",
    "concat_dataset = ConcatDataset([training_set, test_set])\n",
    "# run(training_set, test_set)\n",
    "train(training_set, concat_dataset)\n",
    "test(test_set)"
   ]
  },
  {
   "cell_type": "markdown",
   "id": "c1320579",
   "metadata": {},
   "source": [
    "<span style=\"color:red\"></span>"
   ]
  },
  {
   "cell_type": "code",
   "execution_count": null,
   "metadata": {},
   "outputs": [],
   "source": []
  },
  {
   "cell_type": "markdown",
   "id": "3a3aef7c",
   "metadata": {},
   "source": [
    "<span style=\"color:red\"></span>"
   ]
  }
 ],
 "metadata": {
  "colab": {
   "collapsed_sections": [],
   "name": "reference_parsing.ipynb",
   "provenance": []
  },
  "kernelspec": {
   "display_name": "Python 3Python 3.8.3 64-bit",
   "language": "python",
   "name": "python387jvsc74a57bd033a3b84f31ccfdc829707c34c1243f2e203abdc2a7982f0189f71b04793a5852"
  },
  "language_info": {
   "codemirror_mode": {
    "name": "ipython",
    "version": 3
   },
   "file_extension": ".py",
   "mimetype": "text/x-python",
   "name": "python",
   "nbconvert_exporter": "python",
   "pygments_lexer": "ipython3",
   "version": "3.6.93.8.3"
  },
  "metadata": {
   "interpreter": {
    "hash": "33a3b84f31ccfdc829707c34c1243f2e203abdc2a7982f0189f71b04793a5852"
   }
  },
  "nbdime-conflicts": {
   "local_diff": [
    {
     "diff": [
      {
       "diff": [
        {
         "diff": [
          {
           "key": 11,
           "op": "addrange",
           "valuelist": "7"
          },
          {
           "key": 11,
           "length": 1,
           "op": "removerange"
          }
         ],
         "key": 0,
         "op": "patch"
        }
       ],
       "key": "display_name",
       "op": "patch"
      }
     ],
     "key": "kernelspec",
     "op": "patch"
    },
    {
     "diff": [
      {
       "diff": [
        {
         "diff": [
          {
           "key": 4,
           "op": "addrange",
           "valuelist": "7"
          },
          {
           "key": 4,
           "length": 1,
           "op": "removerange"
          }
         ],
         "key": 0,
         "op": "patch"
        }
       ],
       "key": "version",
       "op": "patch"
      }
     ],
     "key": "language_info",
     "op": "patch"
    }
   ],
   "remote_diff": [
    {
     "diff": [
      {
       "diff": [
        {
         "key": 0,
         "length": 1,
         "op": "removerange"
        }
       ],
       "key": "display_name",
       "op": "patch"
      }
     ],
     "key": "kernelspec",
     "op": "patch"
    },
    {
     "diff": [
      {
       "diff": [
        {
         "key": 0,
         "length": 1,
         "op": "removerange"
        }
       ],
       "key": "version",
       "op": "patch"
      }
     ],
     "key": "language_info",
     "op": "patch"
    }
   ]
  }
 },
 "nbformat": 4,
 "nbformat_minor": 1
}
